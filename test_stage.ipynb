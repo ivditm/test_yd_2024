{
 "cells": [
  {
   "cell_type": "code",
   "execution_count": 1,
   "metadata": {},
   "outputs": [],
   "source": [
    "import dash\n",
    "from dash import dcc\n",
    "from dash import html\n",
    "from dash.dependencies import Input, Output\n",
    "from datetime import datetime\n",
    "import sqlite3\n",
    "from random import randint\n",
    "import pandas as pd\n",
    "import plotly.graph_objs as go\n",
    "\n",
    "\n",
    "from core import (create_stat_table,\n",
    "                  make_full_analyses_anomalies,\n",
    "                  make_pieplot_plotly,\n",
    "                  process_data)\n"
   ]
  },
  {
   "cell_type": "markdown",
   "metadata": {},
   "source": [
    "### Test 1"
   ]
  },
  {
   "cell_type": "markdown",
   "metadata": {},
   "source": [
    "#### Исходные данные\n",
    "\n",
    "##### Таблица 1. Статистика показов рекламы в рекламных блоках\n",
    "\n",
    "`stat_collector`:\n",
    "\n",
    "- `block_id`: id рекламного блока (INT)\n",
    "- `shows`: показы (INT)\n",
    "- `good_clicks`: \"хорошие\" клики (INT)\n",
    "- `fraud_clicks`: фродовые клики (INT)\n",
    "- `revenue`: доход сайта (FLOAT)\n",
    "\n",
    "##### Таблица 2. Словарь соответствия рекламных блоков доменам, на которых те установлены\n",
    "\n",
    "`block_domains`:\n",
    "\n",
    "- `block_id`: id рекламного блока (INT)\n",
    "- `block_description`: описание рекламного блока (VARCHAR)\n",
    "- `domain_id`: id сайта (INT)\n",
    "- `domain_name`: название сайта (VARCHAR)\n"
   ]
  },
  {
   "cell_type": "code",
   "execution_count": 2,
   "metadata": {},
   "outputs": [],
   "source": [
    "conn = sqlite3.connect('advertising.db')\n",
    "c = conn.cursor()\n",
    "c.execute('''DROP TABLE IF EXISTS stat_collector;''')\n",
    "c.execute('''\n",
    "    CREATE TABLE IF NOT EXISTS stat_collector\n",
    "    (block_id INT PRIMARY KEY,\n",
    "    shows INT,\n",
    "    good_clicks INT,\n",
    "    fraud_clicks INT,\n",
    "    revenue FLOAT)\n",
    "''')\n",
    "c.execute('''DROP TABLE IF EXISTS block_domains;''')\n",
    "c.execute('''\n",
    "    CREATE TABLE IF NOT EXISTS block_domains\n",
    "    (block_id INT PRIMARY KEY,\n",
    "    block_description TEXT,\n",
    "    domain_id INT,\n",
    "    domain_name TEXT)\n",
    "''')\n",
    "for i in range(1, 101):\n",
    "    c.execute(f\"INSERT INTO stat_collector VALUES ({i}, {i*1000}, {i*randint(0, 100)}, {i*randint(0, 100)}, {i*100.0})\")\n",
    "for i in range(1, 101):\n",
    "    c.execute(f\"INSERT INTO block_domains VALUES ({i}, 'Block {i}', {i}, 'Site {i}')\")\n",
    "conn.commit()\n",
    "conn.close()\n"
   ]
  },
  {
   "cell_type": "markdown",
   "metadata": {},
   "source": [
    "### 1.1\n",
    "Необходимо вывести доход, который принесли только хорошие клики (good_clicks)?\n",
    "\n",
    "Answer:\n",
    "\n",
    "```sql\n",
    "SELECT SUM((revenue / (good_clicks + fraud_clicks)) * good_clicks)  FROM stat_collector;`"
   ]
  },
  {
   "cell_type": "code",
   "execution_count": 3,
   "metadata": {},
   "outputs": [
    {
     "name": "stdout",
     "output_type": "stream",
     "text": [
      "(283405.62505415047,)\n"
     ]
    }
   ],
   "source": [
    "import sqlite3\n",
    "conn = sqlite3.connect('advertising.db')\n",
    "c = conn.cursor()\n",
    "c.execute('''\n",
    "SELECT SUM((revenue / (good_clicks + fraud_clicks)) * good_clicks)  FROM stat_collector;\n",
    "''')\n",
    "results = c.fetchall()\n",
    "for row in results:\n",
    "    print(row)\n",
    "conn.close()\n"
   ]
  },
  {
   "cell_type": "markdown",
   "metadata": {},
   "source": [
    "### 1.2\n",
    "\n",
    "Необходимо вывести топ-10 сайтов по обороту среди тех, которые имеют более 25% плохих кликов.\n",
    "\n",
    "\n",
    "Answer:\n",
    "\n",
    "```sql\n",
    "SELECT domain_name\n",
    "FROM block_domains\n",
    "WHERE block_id IN (\n",
    "    SELECT block_id\n",
    "    FROM stat_collector\n",
    "    WHERE (fraud_clicks / (good_clicks + fraud_clicks)) >= 0.25\n",
    "    ORDER BY revenue DESC\n",
    "    LIMIT 10\n",
    ");\n"
   ]
  },
  {
   "cell_type": "code",
   "execution_count": 4,
   "metadata": {},
   "outputs": [],
   "source": [
    "import sqlite3\n",
    "conn = sqlite3.connect('advertising.db')\n",
    "c = conn.cursor()\n",
    "c.execute( '''\n",
    "SELECT domain_name\n",
    "FROM block_domains\n",
    "WHERE block_id IN (\n",
    "SELECT block_id\n",
    "FROM stat_collector\n",
    "WHERE (fraud_clicks / (good_clicks + fraud_clicks)) >= 0.25\n",
    "ORDER BY revenue DESC\n",
    "LIMIT 10)''')\n",
    "results = c.fetchall()\n",
    "for row in results:\n",
    "    print(row)\n",
    "conn.close()\n"
   ]
  },
  {
   "cell_type": "code",
   "execution_count": 5,
   "metadata": {},
   "outputs": [
    {
     "name": "stdout",
     "output_type": "stream",
     "text": [
      "(0,)\n"
     ]
    }
   ],
   "source": [
    "import sqlite3\n",
    "conn = sqlite3.connect('advertising.db')\n",
    "c = conn.cursor()\n",
    "c.execute( '''\n",
    "SELECT COUNT(block_id)\n",
    "FROM stat_collector\n",
    "WHERE (fraud_clicks / (good_clicks + fraud_clicks)) >= 0.25''')\n",
    "results = c.fetchall()\n",
    "for row in results:\n",
    "    print(row)\n",
    "conn.close()\n"
   ]
  },
  {
   "cell_type": "markdown",
   "metadata": {},
   "source": [
    "### Задание 2"
   ]
  },
  {
   "cell_type": "markdown",
   "metadata": {},
   "source": [
    "Кейс\n",
    "\"Рекламодатель Сигма жалуется на постоянный рост CPA по своим рекламным кампаниям в последние 4 месяца (с июня по сент 2022). Ваша задача проанализировать его размещение с целью:\n",
    "1) Выяснить причину растущего CPA\n",
    "2) Дать рекомендации по снижению и стабилизации CPA до целевого значения (380 руб)\"\n",
    "\n",
    "Исходные данные\n",
    "Лист data\n",
    "\n",
    "Описание столбцов таблицы на Листе data\n",
    "Описание столбцов:\n",
    "- Client – название клиента\n",
    "- Device – тип устройства\n",
    "- Place – тип площадки\n",
    "- BannerType – тип объявления\n",
    "- QueryType – тип запроса\n",
    "- TargetingType – тип таргетинга\n",
    "- Cost - расходы рекламодателя\n",
    "- Conversions – целевые визиты\n",
    "\n",
    "Ожидаемый результат\n",
    "- Презентация в ppt с выводами и графиками\n",
    "- Исходники с расчетами в свободном, но структурированном и читаемом формате (на ваше усмотрение - ссылки на xlsx-файл, data studio, bi и тд)\n",
    "\n",
    "Дополнительная информация\n",
    "Для выполнения задания потребуются базовые знания по Яндекс.Директу.\n",
    "Всю информацию можно найти в официальной справке: https://yandex.ru/support/direct/\n"
   ]
  },
  {
   "cell_type": "code",
   "execution_count": 6,
   "metadata": {},
   "outputs": [
    {
     "name": "stderr",
     "output_type": "stream",
     "text": [
      "2024-04-14 18:37:48,277 - INFO - первое представление о данных\n"
     ]
    },
    {
     "data": {
      "text/html": [
       "<div>\n",
       "<style scoped>\n",
       "    .dataframe tbody tr th:only-of-type {\n",
       "        vertical-align: middle;\n",
       "    }\n",
       "\n",
       "    .dataframe tbody tr th {\n",
       "        vertical-align: top;\n",
       "    }\n",
       "\n",
       "    .dataframe thead th {\n",
       "        text-align: right;\n",
       "    }\n",
       "</style>\n",
       "<table border=\"1\" class=\"dataframe\">\n",
       "  <thead>\n",
       "    <tr style=\"text-align: right;\">\n",
       "      <th></th>\n",
       "      <th>Client</th>\n",
       "      <th>Month</th>\n",
       "      <th>Category</th>\n",
       "      <th>Device</th>\n",
       "      <th>Place</th>\n",
       "      <th>BannerType</th>\n",
       "      <th>QueryType (search only)</th>\n",
       "      <th>TargetingType</th>\n",
       "      <th>Shows</th>\n",
       "      <th>Clicks</th>\n",
       "      <th>Cost</th>\n",
       "      <th>Conversions</th>\n",
       "      <th>cpa</th>\n",
       "      <th>cpc</th>\n",
       "      <th>cpa_2</th>\n",
       "    </tr>\n",
       "  </thead>\n",
       "  <tbody>\n",
       "    <tr>\n",
       "      <th>0</th>\n",
       "      <td>Псилон</td>\n",
       "      <td>2021-04-01</td>\n",
       "      <td>РАСЧЕТНО-КАССОВОЕ ОБСЛУЖИВАНИЕ</td>\n",
       "      <td>Desktop</td>\n",
       "      <td>Networks</td>\n",
       "      <td>cpc_video</td>\n",
       "      <td>none</td>\n",
       "      <td>Phrase</td>\n",
       "      <td>0</td>\n",
       "      <td>0</td>\n",
       "      <td>0.000000</td>\n",
       "      <td>0</td>\n",
       "      <td>0.0</td>\n",
       "      <td>0.000000</td>\n",
       "      <td>0.0</td>\n",
       "    </tr>\n",
       "    <tr>\n",
       "      <th>1</th>\n",
       "      <td>Псилон</td>\n",
       "      <td>2021-04-01</td>\n",
       "      <td>РАСЧЕТНО-КАССОВОЕ ОБСЛУЖИВАНИЕ</td>\n",
       "      <td>Desktop</td>\n",
       "      <td>Networks</td>\n",
       "      <td>cpc_video</td>\n",
       "      <td>none</td>\n",
       "      <td>Retargeting</td>\n",
       "      <td>5949</td>\n",
       "      <td>41</td>\n",
       "      <td>1666.844364</td>\n",
       "      <td>0</td>\n",
       "      <td>0.0</td>\n",
       "      <td>40.654741</td>\n",
       "      <td>0.0</td>\n",
       "    </tr>\n",
       "    <tr>\n",
       "      <th>2</th>\n",
       "      <td>Псилон</td>\n",
       "      <td>2021-04-01</td>\n",
       "      <td>РАСЧЕТНО-КАССОВОЕ ОБСЛУЖИВАНИЕ</td>\n",
       "      <td>Mobile</td>\n",
       "      <td>Networks</td>\n",
       "      <td>cpc_video</td>\n",
       "      <td>none</td>\n",
       "      <td>Retargeting</td>\n",
       "      <td>191</td>\n",
       "      <td>6</td>\n",
       "      <td>40.641915</td>\n",
       "      <td>0</td>\n",
       "      <td>0.0</td>\n",
       "      <td>6.773653</td>\n",
       "      <td>0.0</td>\n",
       "    </tr>\n",
       "    <tr>\n",
       "      <th>3</th>\n",
       "      <td>Гамма</td>\n",
       "      <td>2021-04-01</td>\n",
       "      <td>РАСЧЕТНО-КАССОВОЕ ОБСЛУЖИВАНИЕ</td>\n",
       "      <td>Desktop</td>\n",
       "      <td>Networks</td>\n",
       "      <td>image_ad</td>\n",
       "      <td>none</td>\n",
       "      <td>Retargeting</td>\n",
       "      <td>227</td>\n",
       "      <td>1</td>\n",
       "      <td>45.747407</td>\n",
       "      <td>0</td>\n",
       "      <td>0.0</td>\n",
       "      <td>45.747407</td>\n",
       "      <td>0.0</td>\n",
       "    </tr>\n",
       "    <tr>\n",
       "      <th>4</th>\n",
       "      <td>Гамма</td>\n",
       "      <td>2021-04-01</td>\n",
       "      <td>РАСЧЕТНО-КАССОВОЕ ОБСЛУЖИВАНИЕ</td>\n",
       "      <td>Mobile</td>\n",
       "      <td>Networks</td>\n",
       "      <td>image_ad</td>\n",
       "      <td>none</td>\n",
       "      <td>Retargeting</td>\n",
       "      <td>18</td>\n",
       "      <td>0</td>\n",
       "      <td>0.000000</td>\n",
       "      <td>0</td>\n",
       "      <td>0.0</td>\n",
       "      <td>0.000000</td>\n",
       "      <td>0.0</td>\n",
       "    </tr>\n",
       "  </tbody>\n",
       "</table>\n",
       "</div>"
      ],
      "text/plain": [
       "   Client      Month                        Category   Device     Place  \\\n",
       "0  Псилон 2021-04-01  РАСЧЕТНО-КАССОВОЕ ОБСЛУЖИВАНИЕ  Desktop  Networks   \n",
       "1  Псилон 2021-04-01  РАСЧЕТНО-КАССОВОЕ ОБСЛУЖИВАНИЕ  Desktop  Networks   \n",
       "2  Псилон 2021-04-01  РАСЧЕТНО-КАССОВОЕ ОБСЛУЖИВАНИЕ   Mobile  Networks   \n",
       "3   Гамма 2021-04-01  РАСЧЕТНО-КАССОВОЕ ОБСЛУЖИВАНИЕ  Desktop  Networks   \n",
       "4   Гамма 2021-04-01  РАСЧЕТНО-КАССОВОЕ ОБСЛУЖИВАНИЕ   Mobile  Networks   \n",
       "\n",
       "  BannerType QueryType (search only) TargetingType  Shows  Clicks  \\\n",
       "0  cpc_video                    none        Phrase      0       0   \n",
       "1  cpc_video                    none   Retargeting   5949      41   \n",
       "2  cpc_video                    none   Retargeting    191       6   \n",
       "3   image_ad                    none   Retargeting    227       1   \n",
       "4   image_ad                    none   Retargeting     18       0   \n",
       "\n",
       "          Cost  Conversions  cpa        cpc  cpa_2  \n",
       "0     0.000000            0  0.0   0.000000    0.0  \n",
       "1  1666.844364            0  0.0  40.654741    0.0  \n",
       "2    40.641915            0  0.0   6.773653    0.0  \n",
       "3    45.747407            0  0.0  45.747407    0.0  \n",
       "4     0.000000            0  0.0   0.000000    0.0  "
      ]
     },
     "metadata": {},
     "output_type": "display_data"
    },
    {
     "name": "stdout",
     "output_type": "stream",
     "text": [
      "****************************************************************************************************\n"
     ]
    },
    {
     "data": {
      "text/html": [
       "<div>\n",
       "<style scoped>\n",
       "    .dataframe tbody tr th:only-of-type {\n",
       "        vertical-align: middle;\n",
       "    }\n",
       "\n",
       "    .dataframe tbody tr th {\n",
       "        vertical-align: top;\n",
       "    }\n",
       "\n",
       "    .dataframe thead th {\n",
       "        text-align: right;\n",
       "    }\n",
       "</style>\n",
       "<table border=\"1\" class=\"dataframe\">\n",
       "  <thead>\n",
       "    <tr style=\"text-align: right;\">\n",
       "      <th></th>\n",
       "      <th>Month</th>\n",
       "      <th>Shows</th>\n",
       "      <th>Clicks</th>\n",
       "      <th>Cost</th>\n",
       "      <th>Conversions</th>\n",
       "      <th>cpa</th>\n",
       "      <th>cpc</th>\n",
       "      <th>cpa_2</th>\n",
       "    </tr>\n",
       "  </thead>\n",
       "  <tbody>\n",
       "    <tr>\n",
       "      <th>count</th>\n",
       "      <td>10478</td>\n",
       "      <td>1.047800e+04</td>\n",
       "      <td>1.047800e+04</td>\n",
       "      <td>1.047800e+04</td>\n",
       "      <td>10478.000000</td>\n",
       "      <td>1.047800e+04</td>\n",
       "      <td>10478.000000</td>\n",
       "      <td>10478.000000</td>\n",
       "    </tr>\n",
       "    <tr>\n",
       "      <th>mean</th>\n",
       "      <td>2021-12-23 01:32:37.701851648</td>\n",
       "      <td>1.715049e+06</td>\n",
       "      <td>9.769437e+03</td>\n",
       "      <td>3.598293e+05</td>\n",
       "      <td>507.982344</td>\n",
       "      <td>5.256544e+03</td>\n",
       "      <td>61.426505</td>\n",
       "      <td>8.013075</td>\n",
       "    </tr>\n",
       "    <tr>\n",
       "      <th>min</th>\n",
       "      <td>2021-04-01 00:00:00</td>\n",
       "      <td>0.000000e+00</td>\n",
       "      <td>0.000000e+00</td>\n",
       "      <td>0.000000e+00</td>\n",
       "      <td>0.000000</td>\n",
       "      <td>0.000000e+00</td>\n",
       "      <td>0.000000</td>\n",
       "      <td>0.000000</td>\n",
       "    </tr>\n",
       "    <tr>\n",
       "      <th>25%</th>\n",
       "      <td>2021-08-01 00:00:00</td>\n",
       "      <td>1.000000e+00</td>\n",
       "      <td>0.000000e+00</td>\n",
       "      <td>0.000000e+00</td>\n",
       "      <td>0.000000</td>\n",
       "      <td>0.000000e+00</td>\n",
       "      <td>0.000000</td>\n",
       "      <td>0.000000</td>\n",
       "    </tr>\n",
       "    <tr>\n",
       "      <th>50%</th>\n",
       "      <td>2022-01-01 00:00:00</td>\n",
       "      <td>1.181150e+04</td>\n",
       "      <td>2.805000e+02</td>\n",
       "      <td>1.304677e+04</td>\n",
       "      <td>2.000000</td>\n",
       "      <td>1.557916e+02</td>\n",
       "      <td>19.705705</td>\n",
       "      <td>0.006855</td>\n",
       "    </tr>\n",
       "    <tr>\n",
       "      <th>75%</th>\n",
       "      <td>2022-05-01 00:00:00</td>\n",
       "      <td>1.326425e+05</td>\n",
       "      <td>5.130250e+03</td>\n",
       "      <td>2.111534e+05</td>\n",
       "      <td>94.000000</td>\n",
       "      <td>1.317728e+03</td>\n",
       "      <td>62.716138</td>\n",
       "      <td>0.773969</td>\n",
       "    </tr>\n",
       "    <tr>\n",
       "      <th>max</th>\n",
       "      <td>2022-09-01 00:00:00</td>\n",
       "      <td>5.831506e+08</td>\n",
       "      <td>2.237376e+06</td>\n",
       "      <td>3.976618e+07</td>\n",
       "      <td>47259.000000</td>\n",
       "      <td>2.227386e+06</td>\n",
       "      <td>1981.225805</td>\n",
       "      <td>1193.905398</td>\n",
       "    </tr>\n",
       "    <tr>\n",
       "      <th>std</th>\n",
       "      <td>NaN</td>\n",
       "      <td>1.544924e+07</td>\n",
       "      <td>4.454819e+04</td>\n",
       "      <td>1.211802e+06</td>\n",
       "      <td>2086.404812</td>\n",
       "      <td>4.136944e+04</td>\n",
       "      <td>129.500891</td>\n",
       "      <td>50.661585</td>\n",
       "    </tr>\n",
       "  </tbody>\n",
       "</table>\n",
       "</div>"
      ],
      "text/plain": [
       "                               Month         Shows        Clicks  \\\n",
       "count                          10478  1.047800e+04  1.047800e+04   \n",
       "mean   2021-12-23 01:32:37.701851648  1.715049e+06  9.769437e+03   \n",
       "min              2021-04-01 00:00:00  0.000000e+00  0.000000e+00   \n",
       "25%              2021-08-01 00:00:00  1.000000e+00  0.000000e+00   \n",
       "50%              2022-01-01 00:00:00  1.181150e+04  2.805000e+02   \n",
       "75%              2022-05-01 00:00:00  1.326425e+05  5.130250e+03   \n",
       "max              2022-09-01 00:00:00  5.831506e+08  2.237376e+06   \n",
       "std                              NaN  1.544924e+07  4.454819e+04   \n",
       "\n",
       "               Cost   Conversions           cpa           cpc         cpa_2  \n",
       "count  1.047800e+04  10478.000000  1.047800e+04  10478.000000  10478.000000  \n",
       "mean   3.598293e+05    507.982344  5.256544e+03     61.426505      8.013075  \n",
       "min    0.000000e+00      0.000000  0.000000e+00      0.000000      0.000000  \n",
       "25%    0.000000e+00      0.000000  0.000000e+00      0.000000      0.000000  \n",
       "50%    1.304677e+04      2.000000  1.557916e+02     19.705705      0.006855  \n",
       "75%    2.111534e+05     94.000000  1.317728e+03     62.716138      0.773969  \n",
       "max    3.976618e+07  47259.000000  2.227386e+06   1981.225805   1193.905398  \n",
       "std    1.211802e+06   2086.404812  4.136944e+04    129.500891     50.661585  "
      ]
     },
     "metadata": {},
     "output_type": "display_data"
    },
    {
     "name": "stdout",
     "output_type": "stream",
     "text": [
      "****************************************************************************************************\n",
      "<class 'pandas.core.frame.DataFrame'>\n",
      "RangeIndex: 10478 entries, 0 to 10477\n",
      "Data columns (total 15 columns):\n",
      " #   Column                   Non-Null Count  Dtype         \n",
      "---  ------                   --------------  -----         \n",
      " 0   Client                   10478 non-null  object        \n",
      " 1   Month                    10478 non-null  datetime64[ns]\n",
      " 2   Category                 10478 non-null  object        \n",
      " 3   Device                   10478 non-null  object        \n",
      " 4   Place                    10478 non-null  object        \n",
      " 5   BannerType               10478 non-null  object        \n",
      " 6   QueryType (search only)  10478 non-null  object        \n",
      " 7   TargetingType            10478 non-null  object        \n",
      " 8   Shows                    10478 non-null  int64         \n",
      " 9   Clicks                   10478 non-null  int64         \n",
      " 10  Cost                     10478 non-null  float64       \n",
      " 11  Conversions              10478 non-null  int64         \n",
      " 12  cpa                      10478 non-null  float64       \n",
      " 13  cpc                      10478 non-null  float64       \n",
      " 14  cpa_2                    10478 non-null  float64       \n",
      "dtypes: datetime64[ns](1), float64(4), int64(3), object(7)\n",
      "memory usage: 1.2+ MB\n"
     ]
    },
    {
     "data": {
      "image/png": "[encoded data removed]",
      "text/plain": [
       "<Figure size 1500x1000 with 9 Axes>"
      ]
     },
     "metadata": {},
     "output_type": "display_data"
    },
    {
     "name": "stderr",
     "output_type": "stream",
     "text": [
      "2024-04-14 18:37:49,563 - INFO - пропусков не нашел\n",
      "2024-04-14 18:37:49,594 - INFO - поменяли на временной формат колоку\n",
      "2024-04-14 18:37:49,594 - INFO - Month\n",
      "2024-04-14 18:37:49,650 - INFO - дубликатов не найдено\n"
     ]
    }
   ],
   "source": [
    "data = pd.read_excel(\"C:/Dev/test_yd_2024/Задание_стажировка_рекламный аналитик_2024.xlsx\", sheet_name='data')\n",
    "data['cpa'] = data.apply(lambda row: 0 if row['Conversions'] == 0 else row['Cost'] / row['Conversions'], axis=1)\n",
    "data['cpc'] = data.apply(lambda row: 0 if row['Clicks'] == 0 else row['Cost'] / row['Clicks'], axis=1)\n",
    "data['cpa_2'] = data.apply(lambda row: 0 if row['Conversions'] == 0 else row['cpc'] / row['Conversions'], axis=1)\n",
    "\n",
    "data = process_data(data)\n",
    "data = data.rename(columns={'QueryType (search only)': 'QueryType'})\n"
   ]
  },
  {
   "cell_type": "code",
   "execution_count": 7,
   "metadata": {},
   "outputs": [
    {
     "name": "stdout",
     "output_type": "stream",
     "text": [
      "таргетинг:  phrase retargeting autotargeting\n",
      "Клиенты:  псилон гамма дельта сигма омега зета бета альфа мета лямбда\n",
      "Данные представлены с 2021-04-01 00:00:00 по 2022-09-01 00:00:00\n"
     ]
    },
    {
     "data": {
      "application/vnd.plotly.v1+json": {
       "config": {
        "plotlyServerURL": "https://plot.ly"
       },
       "data": [
        {
         "domain": {
          "x": [
           0,
           1
          ],
          "y": [
           0,
           1
          ]
         },
         "hovertemplate": "Category=%{label}<br>cpa_count=%{value}<extra></extra>",
         "labels": [
          "потребительское кредитование",
          "расчетно-кассовое обслуживание",
          "кредитные карты",
          "дебетовые карты",
          "вклады",
          "ипотечное кредитование",
          "инвестиции"
         ],
         "legendgroup": "",
         "name": "",
         "showlegend": true,
         "type": "pie",
         "values": [
          2595,
          1885,
          1805,
          1358,
          1223,
          1174,
          438
         ]
        }
       ],
       "layout": {
        "legend": {
         "tracegroupgap": 0
        },
        "template": {
         "data": {
          "bar": [
           {
            "error_x": {
             "color": "#2a3f5f"
            },
            "error_y": {
             "color": "#2a3f5f"
            },
            "marker": {
             "line": {
              "color": "#E5ECF6",
              "width": 0.5
             },
             "pattern": {
              "fillmode": "overlay",
              "size": 10,
              "solidity": 0.2
             }
            },
            "type": "bar"
           }
          ],
          "barpolar": [
           {
            "marker": {
             "line": {
              "color": "#E5ECF6",
              "width": 0.5
             },
             "pattern": {
              "fillmode": "overlay",
              "size": 10,
              "solidity": 0.2
             }
            },
            "type": "barpolar"
           }
          ],
          "carpet": [
           {
            "aaxis": {
             "endlinecolor": "#2a3f5f",
             "gridcolor": "white",
             "linecolor": "white",
             "minorgridcolor": "white",
             "startlinecolor": "#2a3f5f"
            },
            "baxis": {
             "endlinecolor": "#2a3f5f",
             "gridcolor": "white",
             "linecolor": "white",
             "minorgridcolor": "white",
             "startlinecolor": "#2a3f5f"
            },
            "type": "carpet"
           }
          ],
          "choropleth": [
           {
            "colorbar": {
             "outlinewidth": 0,
             "ticks": ""
            },
            "type": "choropleth"
           }
          ],
          "contour": [
           {
            "colorbar": {
             "outlinewidth": 0,
             "ticks": ""
            },
            "colorscale": [
             [
              0,
              "#0d0887"
             ],
             [
              0.1111111111111111,
              "#46039f"
             ],
             [
              0.2222222222222222,
              "#7201a8"
             ],
             [
              0.3333333333333333,
              "#9c179e"
             ],
             [
              0.4444444444444444,
              "#bd3786"
             ],
             [
              0.5555555555555556,
              "#d8576b"
             ],
             [
              0.6666666666666666,
              "#ed7953"
             ],
             [
              0.7777777777777778,
              "#fb9f3a"
             ],
             [
              0.8888888888888888,
              "#fdca26"
             ],
             [
              1,
              "#f0f921"
             ]
            ],
            "type": "contour"
           }
          ],
          "contourcarpet": [
           {
            "colorbar": {
             "outlinewidth": 0,
             "ticks": ""
            },
            "type": "contourcarpet"
           }
          ],
          "heatmap": [
           {
            "colorbar": {
             "outlinewidth": 0,
             "ticks": ""
            },
            "colorscale": [
             [
              0,
              "#0d0887"
             ],
             [
              0.1111111111111111,
              "#46039f"
             ],
             [
              0.2222222222222222,
              "#7201a8"
             ],
             [
              0.3333333333333333,
              "#9c179e"
             ],
             [
              0.4444444444444444,
              "#bd3786"
             ],
             [
              0.5555555555555556,
              "#d8576b"
             ],
             [
              0.6666666666666666,
              "#ed7953"
             ],
             [
              0.7777777777777778,
              "#fb9f3a"
             ],
             [
              0.8888888888888888,
              "#fdca26"
             ],
             [
              1,
              "#f0f921"
             ]
            ],
            "type": "heatmap"
           }
          ],
          "heatmapgl": [
           {
            "colorbar": {
             "outlinewidth": 0,
             "ticks": ""
            },
            "colorscale": [
             [
              0,
              "#0d0887"
             ],
             [
              0.1111111111111111,
              "#46039f"
             ],
             [
              0.2222222222222222,
              "#7201a8"
             ],
             [
              0.3333333333333333,
              "#9c179e"
             ],
             [
              0.4444444444444444,
              "#bd3786"
             ],
             [
              0.5555555555555556,
              "#d8576b"
             ],
             [
              0.6666666666666666,
              "#ed7953"
             ],
             [
              0.7777777777777778,
              "#fb9f3a"
             ],
             [
              0.8888888888888888,
              "#fdca26"
             ],
             [
              1,
              "#f0f921"
             ]
            ],
            "type": "heatmapgl"
           }
          ],
          "histogram": [
           {
            "marker": {
             "pattern": {
              "fillmode": "overlay",
              "size": 10,
              "solidity": 0.2
             }
            },
            "type": "histogram"
           }
          ],
          "histogram2d": [
           {
            "colorbar": {
             "outlinewidth": 0,
             "ticks": ""
            },
            "colorscale": [
             [
              0,
              "#0d0887"
             ],
             [
              0.1111111111111111,
              "#46039f"
             ],
             [
              0.2222222222222222,
              "#7201a8"
             ],
             [
              0.3333333333333333,
              "#9c179e"
             ],
             [
              0.4444444444444444,
              "#bd3786"
             ],
             [
              0.5555555555555556,
              "#d8576b"
             ],
             [
              0.6666666666666666,
              "#ed7953"
             ],
             [
              0.7777777777777778,
              "#fb9f3a"
             ],
             [
              0.8888888888888888,
              "#fdca26"
             ],
             [
              1,
              "#f0f921"
             ]
            ],
            "type": "histogram2d"
           }
          ],
          "histogram2dcontour": [
           {
            "colorbar": {
             "outlinewidth": 0,
             "ticks": ""
            },
            "colorscale": [
             [
              0,
              "#0d0887"
             ],
             [
              0.1111111111111111,
              "#46039f"
             ],
             [
              0.2222222222222222,
              "#7201a8"
             ],
             [
              0.3333333333333333,
              "#9c179e"
             ],
             [
              0.4444444444444444,
              "#bd3786"
             ],
             [
              0.5555555555555556,
              "#d8576b"
             ],
             [
              0.6666666666666666,
              "#ed7953"
             ],
             [
              0.7777777777777778,
              "#fb9f3a"
             ],
             [
              0.8888888888888888,
              "#fdca26"
             ],
             [
              1,
              "#f0f921"
             ]
            ],
            "type": "histogram2dcontour"
           }
          ],
          "mesh3d": [
           {
            "colorbar": {
             "outlinewidth": 0,
             "ticks": ""
            },
            "type": "mesh3d"
           }
          ],
          "parcoords": [
           {
            "line": {
             "colorbar": {
              "outlinewidth": 0,
              "ticks": ""
             }
            },
            "type": "parcoords"
           }
          ],
          "pie": [
           {
            "automargin": true,
            "type": "pie"
           }
          ],
          "scatter": [
           {
            "fillpattern": {
             "fillmode": "overlay",
             "size": 10,
             "solidity": 0.2
            },
            "type": "scatter"
           }
          ],
          "scatter3d": [
           {
            "line": {
             "colorbar": {
              "outlinewidth": 0,
              "ticks": ""
             }
            },
            "marker": {
             "colorbar": {
              "outlinewidth": 0,
              "ticks": ""
             }
            },
            "type": "scatter3d"
           }
          ],
          "scattercarpet": [
           {
            "marker": {
             "colorbar": {
              "outlinewidth": 0,
              "ticks": ""
             }
            },
            "type": "scattercarpet"
           }
          ],
          "scattergeo": [
           {
            "marker": {
             "colorbar": {
              "outlinewidth": 0,
              "ticks": ""
             }
            },
            "type": "scattergeo"
           }
          ],
          "scattergl": [
           {
            "marker": {
             "colorbar": {
              "outlinewidth": 0,
              "ticks": ""
             }
            },
            "type": "scattergl"
           }
          ],
          "scattermapbox": [
           {
            "marker": {
             "colorbar": {
              "outlinewidth": 0,
              "ticks": ""
             }
            },
            "type": "scattermapbox"
           }
          ],
          "scatterpolar": [
           {
            "marker": {
             "colorbar": {
              "outlinewidth": 0,
              "ticks": ""
             }
            },
            "type": "scatterpolar"
           }
          ],
          "scatterpolargl": [
           {
            "marker": {
             "colorbar": {
              "outlinewidth": 0,
              "ticks": ""
             }
            },
            "type": "scatterpolargl"
           }
          ],
          "scatterternary": [
           {
            "marker": {
             "colorbar": {
              "outlinewidth": 0,
              "ticks": ""
             }
            },
            "type": "scatterternary"
           }
          ],
          "surface": [
           {
            "colorbar": {
             "outlinewidth": 0,
             "ticks": ""
            },
            "colorscale": [
             [
              0,
              "#0d0887"
             ],
             [
              0.1111111111111111,
              "#46039f"
             ],
             [
              0.2222222222222222,
              "#7201a8"
             ],
             [
              0.3333333333333333,
              "#9c179e"
             ],
             [
              0.4444444444444444,
              "#bd3786"
             ],
             [
              0.5555555555555556,
              "#d8576b"
             ],
             [
              0.6666666666666666,
              "#ed7953"
             ],
             [
              0.7777777777777778,
              "#fb9f3a"
             ],
             [
              0.8888888888888888,
              "#fdca26"
             ],
             [
              1,
              "#f0f921"
             ]
            ],
            "type": "surface"
           }
          ],
          "table": [
           {
            "cells": {
             "fill": {
              "color": "#EBF0F8"
             },
             "line": {
              "color": "white"
             }
            },
            "header": {
             "fill": {
              "color": "#C8D4E3"
             },
             "line": {
              "color": "white"
             }
            },
            "type": "table"
           }
          ]
         },
         "layout": {
          "annotationdefaults": {
           "arrowcolor": "#2a3f5f",
           "arrowhead": 0,
           "arrowwidth": 1
          },
          "autotypenumbers": "strict",
          "coloraxis": {
           "colorbar": {
            "outlinewidth": 0,
            "ticks": ""
           }
          },
          "colorscale": {
           "diverging": [
            [
             0,
             "#8e0152"
            ],
            [
             0.1,
             "#c51b7d"
            ],
            [
             0.2,
             "#de77ae"
            ],
            [
             0.3,
             "#f1b6da"
            ],
            [
             0.4,
             "#fde0ef"
            ],
            [
             0.5,
             "#f7f7f7"
            ],
            [
             0.6,
             "#e6f5d0"
            ],
            [
             0.7,
             "#b8e186"
            ],
            [
             0.8,
             "#7fbc41"
            ],
            [
             0.9,
             "#4d9221"
            ],
            [
             1,
             "#276419"
            ]
           ],
           "sequential": [
            [
             0,
             "#0d0887"
            ],
            [
             0.1111111111111111,
             "#46039f"
            ],
            [
             0.2222222222222222,
             "#7201a8"
            ],
            [
             0.3333333333333333,
             "#9c179e"
            ],
            [
             0.4444444444444444,
             "#bd3786"
            ],
            [
             0.5555555555555556,
             "#d8576b"
            ],
            [
             0.6666666666666666,
             "#ed7953"
            ],
            [
             0.7777777777777778,
             "#fb9f3a"
            ],
            [
             0.8888888888888888,
             "#fdca26"
            ],
            [
             1,
             "#f0f921"
            ]
           ],
           "sequentialminus": [
            [
             0,
             "#0d0887"
            ],
            [
             0.1111111111111111,
             "#46039f"
            ],
            [
             0.2222222222222222,
             "#7201a8"
            ],
            [
             0.3333333333333333,
             "#9c179e"
            ],
            [
             0.4444444444444444,
             "#bd3786"
            ],
            [
             0.5555555555555556,
             "#d8576b"
            ],
            [
             0.6666666666666666,
             "#ed7953"
            ],
            [
             0.7777777777777778,
             "#fb9f3a"
            ],
            [
             0.8888888888888888,
             "#fdca26"
            ],
            [
             1,
             "#f0f921"
            ]
           ]
          },
          "colorway": [
           "#636efa",
           "#EF553B",
           "#00cc96",
           "#ab63fa",
           "#FFA15A",
           "#19d3f3",
           "#FF6692",
           "#B6E880",
           "#FF97FF",
           "#FECB52"
          ],
          "font": {
           "color": "#2a3f5f"
          },
          "geo": {
           "bgcolor": "white",
           "lakecolor": "white",
           "landcolor": "#E5ECF6",
           "showlakes": true,
           "showland": true,
           "subunitcolor": "white"
          },
          "hoverlabel": {
           "align": "left"
          },
          "hovermode": "closest",
          "mapbox": {
           "style": "light"
          },
          "paper_bgcolor": "white",
          "plot_bgcolor": "#E5ECF6",
          "polar": {
           "angularaxis": {
            "gridcolor": "white",
            "linecolor": "white",
            "ticks": ""
           },
           "bgcolor": "#E5ECF6",
           "radialaxis": {
            "gridcolor": "white",
            "linecolor": "white",
            "ticks": ""
           }
          },
          "scene": {
           "xaxis": {
            "backgroundcolor": "#E5ECF6",
            "gridcolor": "white",
            "gridwidth": 2,
            "linecolor": "white",
            "showbackground": true,
            "ticks": "",
            "zerolinecolor": "white"
           },
           "yaxis": {
            "backgroundcolor": "#E5ECF6",
            "gridcolor": "white",
            "gridwidth": 2,
            "linecolor": "white",
            "showbackground": true,
            "ticks": "",
            "zerolinecolor": "white"
           },
           "zaxis": {
            "backgroundcolor": "#E5ECF6",
            "gridcolor": "white",
            "gridwidth": 2,
            "linecolor": "white",
            "showbackground": true,
            "ticks": "",
            "zerolinecolor": "white"
           }
          },
          "shapedefaults": {
           "line": {
            "color": "#2a3f5f"
           }
          },
          "ternary": {
           "aaxis": {
            "gridcolor": "white",
            "linecolor": "white",
            "ticks": ""
           },
           "baxis": {
            "gridcolor": "white",
            "linecolor": "white",
            "ticks": ""
           },
           "bgcolor": "#E5ECF6",
           "caxis": {
            "gridcolor": "white",
            "linecolor": "white",
            "ticks": ""
           }
          },
          "title": {
           "x": 0.05
          },
          "xaxis": {
           "automargin": true,
           "gridcolor": "white",
           "linecolor": "white",
           "ticks": "",
           "title": {
            "standoff": 15
           },
           "zerolinecolor": "white",
           "zerolinewidth": 2
          },
          "yaxis": {
           "automargin": true,
           "gridcolor": "white",
           "linecolor": "white",
           "ticks": "",
           "title": {
            "standoff": 15
           },
           "zerolinecolor": "white",
           "zerolinewidth": 2
          }
         }
        },
        "title": {
         "text": "распределение по категориям"
        }
       }
      }
     },
     "metadata": {},
     "output_type": "display_data"
    },
    {
     "data": {
      "application/vnd.plotly.v1+json": {
       "config": {
        "plotlyServerURL": "https://plot.ly"
       },
       "data": [
        {
         "domain": {
          "x": [
           0,
           1
          ],
          "y": [
           0,
           1
          ]
         },
         "hovertemplate": "Device=%{label}<br>cpa_count=%{value}<extra></extra>",
         "labels": [
          "desktop",
          "mobile"
         ],
         "legendgroup": "",
         "name": "",
         "showlegend": true,
         "type": "pie",
         "values": [
          5362,
          5116
         ]
        }
       ],
       "layout": {
        "legend": {
         "tracegroupgap": 0
        },
        "template": {
         "data": {
          "bar": [
           {
            "error_x": {
             "color": "#2a3f5f"
            },
            "error_y": {
             "color": "#2a3f5f"
            },
            "marker": {
             "line": {
              "color": "#E5ECF6",
              "width": 0.5
             },
             "pattern": {
              "fillmode": "overlay",
              "size": 10,
              "solidity": 0.2
             }
            },
            "type": "bar"
           }
          ],
          "barpolar": [
           {
            "marker": {
             "line": {
              "color": "#E5ECF6",
              "width": 0.5
             },
             "pattern": {
              "fillmode": "overlay",
              "size": 10,
              "solidity": 0.2
             }
            },
            "type": "barpolar"
           }
          ],
          "carpet": [
           {
            "aaxis": {
             "endlinecolor": "#2a3f5f",
             "gridcolor": "white",
             "linecolor": "white",
             "minorgridcolor": "white",
             "startlinecolor": "#2a3f5f"
            },
            "baxis": {
             "endlinecolor": "#2a3f5f",
             "gridcolor": "white",
             "linecolor": "white",
             "minorgridcolor": "white",
             "startlinecolor": "#2a3f5f"
            },
            "type": "carpet"
           }
          ],
          "choropleth": [
           {
            "colorbar": {
             "outlinewidth": 0,
             "ticks": ""
            },
            "type": "choropleth"
           }
          ],
          "contour": [
           {
            "colorbar": {
             "outlinewidth": 0,
             "ticks": ""
            },
            "colorscale": [
             [
              0,
              "#0d0887"
             ],
             [
              0.1111111111111111,
              "#46039f"
             ],
             [
              0.2222222222222222,
              "#7201a8"
             ],
             [
              0.3333333333333333,
              "#9c179e"
             ],
             [
              0.4444444444444444,
              "#bd3786"
             ],
             [
              0.5555555555555556,
              "#d8576b"
             ],
             [
              0.6666666666666666,
              "#ed7953"
             ],
             [
              0.7777777777777778,
              "#fb9f3a"
             ],
             [
              0.8888888888888888,
              "#fdca26"
             ],
             [
              1,
              "#f0f921"
             ]
            ],
            "type": "contour"
           }
          ],
          "contourcarpet": [
           {
            "colorbar": {
             "outlinewidth": 0,
             "ticks": ""
            },
            "type": "contourcarpet"
           }
          ],
          "heatmap": [
           {
            "colorbar": {
             "outlinewidth": 0,
             "ticks": ""
            },
            "colorscale": [
             [
              0,
              "#0d0887"
             ],
             [
              0.1111111111111111,
              "#46039f"
             ],
             [
              0.2222222222222222,
              "#7201a8"
             ],
             [
              0.3333333333333333,
              "#9c179e"
             ],
             [
              0.4444444444444444,
              "#bd3786"
             ],
             [
              0.5555555555555556,
              "#d8576b"
             ],
             [
              0.6666666666666666,
              "#ed7953"
             ],
             [
              0.7777777777777778,
              "#fb9f3a"
             ],
             [
              0.8888888888888888,
              "#fdca26"
             ],
             [
              1,
              "#f0f921"
             ]
            ],
            "type": "heatmap"
           }
          ],
          "heatmapgl": [
           {
            "colorbar": {
             "outlinewidth": 0,
             "ticks": ""
            },
            "colorscale": [
             [
              0,
              "#0d0887"
             ],
             [
              0.1111111111111111,
              "#46039f"
             ],
             [
              0.2222222222222222,
              "#7201a8"
             ],
             [
              0.3333333333333333,
              "#9c179e"
             ],
             [
              0.4444444444444444,
              "#bd3786"
             ],
             [
              0.5555555555555556,
              "#d8576b"
             ],
             [
              0.6666666666666666,
              "#ed7953"
             ],
             [
              0.7777777777777778,
              "#fb9f3a"
             ],
             [
              0.8888888888888888,
              "#fdca26"
             ],
             [
              1,
              "#f0f921"
             ]
            ],
            "type": "heatmapgl"
           }
          ],
          "histogram": [
           {
            "marker": {
             "pattern": {
              "fillmode": "overlay",
              "size": 10,
              "solidity": 0.2
             }
            },
            "type": "histogram"
           }
          ],
          "histogram2d": [
           {
            "colorbar": {
             "outlinewidth": 0,
             "ticks": ""
            },
            "colorscale": [
             [
              0,
              "#0d0887"
             ],
             [
              0.1111111111111111,
              "#46039f"
             ],
             [
              0.2222222222222222,
              "#7201a8"
             ],
             [
              0.3333333333333333,
              "#9c179e"
             ],
             [
              0.4444444444444444,
              "#bd3786"
             ],
             [
              0.5555555555555556,
              "#d8576b"
             ],
             [
              0.6666666666666666,
              "#ed7953"
             ],
             [
              0.7777777777777778,
              "#fb9f3a"
             ],
             [
              0.8888888888888888,
              "#fdca26"
             ],
             [
              1,
              "#f0f921"
             ]
            ],
            "type": "histogram2d"
           }
          ],
          "histogram2dcontour": [
           {
            "colorbar": {
             "outlinewidth": 0,
             "ticks": ""
            },
            "colorscale": [
             [
              0,
              "#0d0887"
             ],
             [
              0.1111111111111111,
              "#46039f"
             ],
             [
              0.2222222222222222,
              "#7201a8"
             ],
             [
              0.3333333333333333,
              "#9c179e"
             ],
             [
              0.4444444444444444,
              "#bd3786"
             ],
             [
              0.5555555555555556,
              "#d8576b"
             ],
             [
              0.6666666666666666,
              "#ed7953"
             ],
             [
              0.7777777777777778,
              "#fb9f3a"
             ],
             [
              0.8888888888888888,
              "#fdca26"
             ],
             [
              1,
              "#f0f921"
             ]
            ],
            "type": "histogram2dcontour"
           }
          ],
          "mesh3d": [
           {
            "colorbar": {
             "outlinewidth": 0,
             "ticks": ""
            },
            "type": "mesh3d"
           }
          ],
          "parcoords": [
           {
            "line": {
             "colorbar": {
              "outlinewidth": 0,
              "ticks": ""
             }
            },
            "type": "parcoords"
           }
          ],
          "pie": [
           {
            "automargin": true,
            "type": "pie"
           }
          ],
          "scatter": [
           {
            "fillpattern": {
             "fillmode": "overlay",
             "size": 10,
             "solidity": 0.2
            },
            "type": "scatter"
           }
          ],
          "scatter3d": [
           {
            "line": {
             "colorbar": {
              "outlinewidth": 0,
              "ticks": ""
             }
            },
            "marker": {
             "colorbar": {
              "outlinewidth": 0,
              "ticks": ""
             }
            },
            "type": "scatter3d"
           }
          ],
          "scattercarpet": [
           {
            "marker": {
             "colorbar": {
              "outlinewidth": 0,
              "ticks": ""
             }
            },
            "type": "scattercarpet"
           }
          ],
          "scattergeo": [
           {
            "marker": {
             "colorbar": {
              "outlinewidth": 0,
              "ticks": ""
             }
            },
            "type": "scattergeo"
           }
          ],
          "scattergl": [
           {
            "marker": {
             "colorbar": {
              "outlinewidth": 0,
              "ticks": ""
             }
            },
            "type": "scattergl"
           }
          ],
          "scattermapbox": [
           {
            "marker": {
             "colorbar": {
              "outlinewidth": 0,
              "ticks": ""
             }
            },
            "type": "scattermapbox"
           }
          ],
          "scatterpolar": [
           {
            "marker": {
             "colorbar": {
              "outlinewidth": 0,
              "ticks": ""
             }
            },
            "type": "scatterpolar"
           }
          ],
          "scatterpolargl": [
           {
            "marker": {
             "colorbar": {
              "outlinewidth": 0,
              "ticks": ""
             }
            },
            "type": "scatterpolargl"
           }
          ],
          "scatterternary": [
           {
            "marker": {
             "colorbar": {
              "outlinewidth": 0,
              "ticks": ""
             }
            },
            "type": "scatterternary"
           }
          ],
          "surface": [
           {
            "colorbar": {
             "outlinewidth": 0,
             "ticks": ""
            },
            "colorscale": [
             [
              0,
              "#0d0887"
             ],
             [
              0.1111111111111111,
              "#46039f"
             ],
             [
              0.2222222222222222,
              "#7201a8"
             ],
             [
              0.3333333333333333,
              "#9c179e"
             ],
             [
              0.4444444444444444,
              "#bd3786"
             ],
             [
              0.5555555555555556,
              "#d8576b"
             ],
             [
              0.6666666666666666,
              "#ed7953"
             ],
             [
              0.7777777777777778,
              "#fb9f3a"
             ],
             [
              0.8888888888888888,
              "#fdca26"
             ],
             [
              1,
              "#f0f921"
             ]
            ],
            "type": "surface"
           }
          ],
          "table": [
           {
            "cells": {
             "fill": {
              "color": "#EBF0F8"
             },
             "line": {
              "color": "white"
             }
            },
            "header": {
             "fill": {
              "color": "#C8D4E3"
             },
             "line": {
              "color": "white"
             }
            },
            "type": "table"
           }
          ]
         },
         "layout": {
          "annotationdefaults": {
           "arrowcolor": "#2a3f5f",
           "arrowhead": 0,
           "arrowwidth": 1
          },
          "autotypenumbers": "strict",
          "coloraxis": {
           "colorbar": {
            "outlinewidth": 0,
            "ticks": ""
           }
          },
          "colorscale": {
           "diverging": [
            [
             0,
             "#8e0152"
            ],
            [
             0.1,
             "#c51b7d"
            ],
            [
             0.2,
             "#de77ae"
            ],
            [
             0.3,
             "#f1b6da"
            ],
            [
             0.4,
             "#fde0ef"
            ],
            [
             0.5,
             "#f7f7f7"
            ],
            [
             0.6,
             "#e6f5d0"
            ],
            [
             0.7,
             "#b8e186"
            ],
            [
             0.8,
             "#7fbc41"
            ],
            [
             0.9,
             "#4d9221"
            ],
            [
             1,
             "#276419"
            ]
           ],
           "sequential": [
            [
             0,
             "#0d0887"
            ],
            [
             0.1111111111111111,
             "#46039f"
            ],
            [
             0.2222222222222222,
             "#7201a8"
            ],
            [
             0.3333333333333333,
             "#9c179e"
            ],
            [
             0.4444444444444444,
             "#bd3786"
            ],
            [
             0.5555555555555556,
             "#d8576b"
            ],
            [
             0.6666666666666666,
             "#ed7953"
            ],
            [
             0.7777777777777778,
             "#fb9f3a"
            ],
            [
             0.8888888888888888,
             "#fdca26"
            ],
            [
             1,
             "#f0f921"
            ]
           ],
           "sequentialminus": [
            [
             0,
             "#0d0887"
            ],
            [
             0.1111111111111111,
             "#46039f"
            ],
            [
             0.2222222222222222,
             "#7201a8"
            ],
            [
             0.3333333333333333,
             "#9c179e"
            ],
            [
             0.4444444444444444,
             "#bd3786"
            ],
            [
             0.5555555555555556,
             "#d8576b"
            ],
            [
             0.6666666666666666,
             "#ed7953"
            ],
            [
             0.7777777777777778,
             "#fb9f3a"
            ],
            [
             0.8888888888888888,
             "#fdca26"
            ],
            [
             1,
             "#f0f921"
            ]
           ]
          },
          "colorway": [
           "#636efa",
           "#EF553B",
           "#00cc96",
           "#ab63fa",
           "#FFA15A",
           "#19d3f3",
           "#FF6692",
           "#B6E880",
           "#FF97FF",
           "#FECB52"
          ],
          "font": {
           "color": "#2a3f5f"
          },
          "geo": {
           "bgcolor": "white",
           "lakecolor": "white",
           "landcolor": "#E5ECF6",
           "showlakes": true,
           "showland": true,
           "subunitcolor": "white"
          },
          "hoverlabel": {
           "align": "left"
          },
          "hovermode": "closest",
          "mapbox": {
           "style": "light"
          },
          "paper_bgcolor": "white",
          "plot_bgcolor": "#E5ECF6",
          "polar": {
           "angularaxis": {
            "gridcolor": "white",
            "linecolor": "white",
            "ticks": ""
           },
           "bgcolor": "#E5ECF6",
           "radialaxis": {
            "gridcolor": "white",
            "linecolor": "white",
            "ticks": ""
           }
          },
          "scene": {
           "xaxis": {
            "backgroundcolor": "#E5ECF6",
            "gridcolor": "white",
            "gridwidth": 2,
            "linecolor": "white",
            "showbackground": true,
            "ticks": "",
            "zerolinecolor": "white"
           },
           "yaxis": {
            "backgroundcolor": "#E5ECF6",
            "gridcolor": "white",
            "gridwidth": 2,
            "linecolor": "white",
            "showbackground": true,
            "ticks": "",
            "zerolinecolor": "white"
           },
           "zaxis": {
            "backgroundcolor": "#E5ECF6",
            "gridcolor": "white",
            "gridwidth": 2,
            "linecolor": "white",
            "showbackground": true,
            "ticks": "",
            "zerolinecolor": "white"
           }
          },
          "shapedefaults": {
           "line": {
            "color": "#2a3f5f"
           }
          },
          "ternary": {
           "aaxis": {
            "gridcolor": "white",
            "linecolor": "white",
            "ticks": ""
           },
           "baxis": {
            "gridcolor": "white",
            "linecolor": "white",
            "ticks": ""
           },
           "bgcolor": "#E5ECF6",
           "caxis": {
            "gridcolor": "white",
            "linecolor": "white",
            "ticks": ""
           }
          },
          "title": {
           "x": 0.05
          },
          "xaxis": {
           "automargin": true,
           "gridcolor": "white",
           "linecolor": "white",
           "ticks": "",
           "title": {
            "standoff": 15
           },
           "zerolinecolor": "white",
           "zerolinewidth": 2
          },
          "yaxis": {
           "automargin": true,
           "gridcolor": "white",
           "linecolor": "white",
           "ticks": "",
           "title": {
            "standoff": 15
           },
           "zerolinecolor": "white",
           "zerolinewidth": 2
          }
         }
        },
        "title": {
         "text": "распределение по типу устройст"
        }
       }
      }
     },
     "metadata": {},
     "output_type": "display_data"
    },
    {
     "data": {
      "application/vnd.plotly.v1+json": {
       "config": {
        "plotlyServerURL": "https://plot.ly"
       },
       "data": [
        {
         "domain": {
          "x": [
           0,
           1
          ],
          "y": [
           0,
           1
          ]
         },
         "hovertemplate": "Place=%{label}<br>cpa_count=%{value}<extra></extra>",
         "labels": [
          "search",
          "networks"
         ],
         "legendgroup": "",
         "name": "",
         "showlegend": true,
         "type": "pie",
         "values": [
          6070,
          4408
         ]
        }
       ],
       "layout": {
        "legend": {
         "tracegroupgap": 0
        },
        "template": {
         "data": {
          "bar": [
           {
            "error_x": {
             "color": "#2a3f5f"
            },
            "error_y": {
             "color": "#2a3f5f"
            },
            "marker": {
             "line": {
              "color": "#E5ECF6",
              "width": 0.5
             },
             "pattern": {
              "fillmode": "overlay",
              "size": 10,
              "solidity": 0.2
             }
            },
            "type": "bar"
           }
          ],
          "barpolar": [
           {
            "marker": {
             "line": {
              "color": "#E5ECF6",
              "width": 0.5
             },
             "pattern": {
              "fillmode": "overlay",
              "size": 10,
              "solidity": 0.2
             }
            },
            "type": "barpolar"
           }
          ],
          "carpet": [
           {
            "aaxis": {
             "endlinecolor": "#2a3f5f",
             "gridcolor": "white",
             "linecolor": "white",
             "minorgridcolor": "white",
             "startlinecolor": "#2a3f5f"
            },
            "baxis": {
             "endlinecolor": "#2a3f5f",
             "gridcolor": "white",
             "linecolor": "white",
             "minorgridcolor": "white",
             "startlinecolor": "#2a3f5f"
            },
            "type": "carpet"
           }
          ],
          "choropleth": [
           {
            "colorbar": {
             "outlinewidth": 0,
             "ticks": ""
            },
            "type": "choropleth"
           }
          ],
          "contour": [
           {
            "colorbar": {
             "outlinewidth": 0,
             "ticks": ""
            },
            "colorscale": [
             [
              0,
              "#0d0887"
             ],
             [
              0.1111111111111111,
              "#46039f"
             ],
             [
              0.2222222222222222,
              "#7201a8"
             ],
             [
              0.3333333333333333,
              "#9c179e"
             ],
             [
              0.4444444444444444,
              "#bd3786"
             ],
             [
              0.5555555555555556,
              "#d8576b"
             ],
             [
              0.6666666666666666,
              "#ed7953"
             ],
             [
              0.7777777777777778,
              "#fb9f3a"
             ],
             [
              0.8888888888888888,
              "#fdca26"
             ],
             [
              1,
              "#f0f921"
             ]
            ],
            "type": "contour"
           }
          ],
          "contourcarpet": [
           {
            "colorbar": {
             "outlinewidth": 0,
             "ticks": ""
            },
            "type": "contourcarpet"
           }
          ],
          "heatmap": [
           {
            "colorbar": {
             "outlinewidth": 0,
             "ticks": ""
            },
            "colorscale": [
             [
              0,
              "#0d0887"
             ],
             [
              0.1111111111111111,
              "#46039f"
             ],
             [
              0.2222222222222222,
              "#7201a8"
             ],
             [
              0.3333333333333333,
              "#9c179e"
             ],
             [
              0.4444444444444444,
              "#bd3786"
             ],
             [
              0.5555555555555556,
              "#d8576b"
             ],
             [
              0.6666666666666666,
              "#ed7953"
             ],
             [
              0.7777777777777778,
              "#fb9f3a"
             ],
             [
              0.8888888888888888,
              "#fdca26"
             ],
             [
              1,
              "#f0f921"
             ]
            ],
            "type": "heatmap"
           }
          ],
          "heatmapgl": [
           {
            "colorbar": {
             "outlinewidth": 0,
             "ticks": ""
            },
            "colorscale": [
             [
              0,
              "#0d0887"
             ],
             [
              0.1111111111111111,
              "#46039f"
             ],
             [
              0.2222222222222222,
              "#7201a8"
             ],
             [
              0.3333333333333333,
              "#9c179e"
             ],
             [
              0.4444444444444444,
              "#bd3786"
             ],
             [
              0.5555555555555556,
              "#d8576b"
             ],
             [
              0.6666666666666666,
              "#ed7953"
             ],
             [
              0.7777777777777778,
              "#fb9f3a"
             ],
             [
              0.8888888888888888,
              "#fdca26"
             ],
             [
              1,
              "#f0f921"
             ]
            ],
            "type": "heatmapgl"
           }
          ],
          "histogram": [
           {
            "marker": {
             "pattern": {
              "fillmode": "overlay",
              "size": 10,
              "solidity": 0.2
             }
            },
            "type": "histogram"
           }
          ],
          "histogram2d": [
           {
            "colorbar": {
             "outlinewidth": 0,
             "ticks": ""
            },
            "colorscale": [
             [
              0,
              "#0d0887"
             ],
             [
              0.1111111111111111,
              "#46039f"
             ],
             [
              0.2222222222222222,
              "#7201a8"
             ],
             [
              0.3333333333333333,
              "#9c179e"
             ],
             [
              0.4444444444444444,
              "#bd3786"
             ],
             [
              0.5555555555555556,
              "#d8576b"
             ],
             [
              0.6666666666666666,
              "#ed7953"
             ],
             [
              0.7777777777777778,
              "#fb9f3a"
             ],
             [
              0.8888888888888888,
              "#fdca26"
             ],
             [
              1,
              "#f0f921"
             ]
            ],
            "type": "histogram2d"
           }
          ],
          "histogram2dcontour": [
           {
            "colorbar": {
             "outlinewidth": 0,
             "ticks": ""
            },
            "colorscale": [
             [
              0,
              "#0d0887"
             ],
             [
              0.1111111111111111,
              "#46039f"
             ],
             [
              0.2222222222222222,
              "#7201a8"
             ],
             [
              0.3333333333333333,
              "#9c179e"
             ],
             [
              0.4444444444444444,
              "#bd3786"
             ],
             [
              0.5555555555555556,
              "#d8576b"
             ],
             [
              0.6666666666666666,
              "#ed7953"
             ],
             [
              0.7777777777777778,
              "#fb9f3a"
             ],
             [
              0.8888888888888888,
              "#fdca26"
             ],
             [
              1,
              "#f0f921"
             ]
            ],
            "type": "histogram2dcontour"
           }
          ],
          "mesh3d": [
           {
            "colorbar": {
             "outlinewidth": 0,
             "ticks": ""
            },
            "type": "mesh3d"
           }
          ],
          "parcoords": [
           {
            "line": {
             "colorbar": {
              "outlinewidth": 0,
              "ticks": ""
             }
            },
            "type": "parcoords"
           }
          ],
          "pie": [
           {
            "automargin": true,
            "type": "pie"
           }
          ],
          "scatter": [
           {
            "fillpattern": {
             "fillmode": "overlay",
             "size": 10,
             "solidity": 0.2
            },
            "type": "scatter"
           }
          ],
          "scatter3d": [
           {
            "line": {
             "colorbar": {
              "outlinewidth": 0,
              "ticks": ""
             }
            },
            "marker": {
             "colorbar": {
              "outlinewidth": 0,
              "ticks": ""
             }
            },
            "type": "scatter3d"
           }
          ],
          "scattercarpet": [
           {
            "marker": {
             "colorbar": {
              "outlinewidth": 0,
              "ticks": ""
             }
            },
            "type": "scattercarpet"
           }
          ],
          "scattergeo": [
           {
            "marker": {
             "colorbar": {
              "outlinewidth": 0,
              "ticks": ""
             }
            },
            "type": "scattergeo"
           }
          ],
          "scattergl": [
           {
            "marker": {
             "colorbar": {
              "outlinewidth": 0,
              "ticks": ""
             }
            },
            "type": "scattergl"
           }
          ],
          "scattermapbox": [
           {
            "marker": {
             "colorbar": {
              "outlinewidth": 0,
              "ticks": ""
             }
            },
            "type": "scattermapbox"
           }
          ],
          "scatterpolar": [
           {
            "marker": {
             "colorbar": {
              "outlinewidth": 0,
              "ticks": ""
             }
            },
            "type": "scatterpolar"
           }
          ],
          "scatterpolargl": [
           {
            "marker": {
             "colorbar": {
              "outlinewidth": 0,
              "ticks": ""
             }
            },
            "type": "scatterpolargl"
           }
          ],
          "scatterternary": [
           {
            "marker": {
             "colorbar": {
              "outlinewidth": 0,
              "ticks": ""
             }
            },
            "type": "scatterternary"
           }
          ],
          "surface": [
           {
            "colorbar": {
             "outlinewidth": 0,
             "ticks": ""
            },
            "colorscale": [
             [
              0,
              "#0d0887"
             ],
             [
              0.1111111111111111,
              "#46039f"
             ],
             [
              0.2222222222222222,
              "#7201a8"
             ],
             [
              0.3333333333333333,
              "#9c179e"
             ],
             [
              0.4444444444444444,
              "#bd3786"
             ],
             [
              0.5555555555555556,
              "#d8576b"
             ],
             [
              0.6666666666666666,
              "#ed7953"
             ],
             [
              0.7777777777777778,
              "#fb9f3a"
             ],
             [
              0.8888888888888888,
              "#fdca26"
             ],
             [
              1,
              "#f0f921"
             ]
            ],
            "type": "surface"
           }
          ],
          "table": [
           {
            "cells": {
             "fill": {
              "color": "#EBF0F8"
             },
             "line": {
              "color": "white"
             }
            },
            "header": {
             "fill": {
              "color": "#C8D4E3"
             },
             "line": {
              "color": "white"
             }
            },
            "type": "table"
           }
          ]
         },
         "layout": {
          "annotationdefaults": {
           "arrowcolor": "#2a3f5f",
           "arrowhead": 0,
           "arrowwidth": 1
          },
          "autotypenumbers": "strict",
          "coloraxis": {
           "colorbar": {
            "outlinewidth": 0,
            "ticks": ""
           }
          },
          "colorscale": {
           "diverging": [
            [
             0,
             "#8e0152"
            ],
            [
             0.1,
             "#c51b7d"
            ],
            [
             0.2,
             "#de77ae"
            ],
            [
             0.3,
             "#f1b6da"
            ],
            [
             0.4,
             "#fde0ef"
            ],
            [
             0.5,
             "#f7f7f7"
            ],
            [
             0.6,
             "#e6f5d0"
            ],
            [
             0.7,
             "#b8e186"
            ],
            [
             0.8,
             "#7fbc41"
            ],
            [
             0.9,
             "#4d9221"
            ],
            [
             1,
             "#276419"
            ]
           ],
           "sequential": [
            [
             0,
             "#0d0887"
            ],
            [
             0.1111111111111111,
             "#46039f"
            ],
            [
             0.2222222222222222,
             "#7201a8"
            ],
            [
             0.3333333333333333,
             "#9c179e"
            ],
            [
             0.4444444444444444,
             "#bd3786"
            ],
            [
             0.5555555555555556,
             "#d8576b"
            ],
            [
             0.6666666666666666,
             "#ed7953"
            ],
            [
             0.7777777777777778,
             "#fb9f3a"
            ],
            [
             0.8888888888888888,
             "#fdca26"
            ],
            [
             1,
             "#f0f921"
            ]
           ],
           "sequentialminus": [
            [
             0,
             "#0d0887"
            ],
            [
             0.1111111111111111,
             "#46039f"
            ],
            [
             0.2222222222222222,
             "#7201a8"
            ],
            [
             0.3333333333333333,
             "#9c179e"
            ],
            [
             0.4444444444444444,
             "#bd3786"
            ],
            [
             0.5555555555555556,
             "#d8576b"
            ],
            [
             0.6666666666666666,
             "#ed7953"
            ],
            [
             0.7777777777777778,
             "#fb9f3a"
            ],
            [
             0.8888888888888888,
             "#fdca26"
            ],
            [
             1,
             "#f0f921"
            ]
           ]
          },
          "colorway": [
           "#636efa",
           "#EF553B",
           "#00cc96",
           "#ab63fa",
           "#FFA15A",
           "#19d3f3",
           "#FF6692",
           "#B6E880",
           "#FF97FF",
           "#FECB52"
          ],
          "font": {
           "color": "#2a3f5f"
          },
          "geo": {
           "bgcolor": "white",
           "lakecolor": "white",
           "landcolor": "#E5ECF6",
           "showlakes": true,
           "showland": true,
           "subunitcolor": "white"
          },
          "hoverlabel": {
           "align": "left"
          },
          "hovermode": "closest",
          "mapbox": {
           "style": "light"
          },
          "paper_bgcolor": "white",
          "plot_bgcolor": "#E5ECF6",
          "polar": {
           "angularaxis": {
            "gridcolor": "white",
            "linecolor": "white",
            "ticks": ""
           },
           "bgcolor": "#E5ECF6",
           "radialaxis": {
            "gridcolor": "white",
            "linecolor": "white",
            "ticks": ""
           }
          },
          "scene": {
           "xaxis": {
            "backgroundcolor": "#E5ECF6",
            "gridcolor": "white",
            "gridwidth": 2,
            "linecolor": "white",
            "showbackground": true,
            "ticks": "",
            "zerolinecolor": "white"
           },
           "yaxis": {
            "backgroundcolor": "#E5ECF6",
            "gridcolor": "white",
            "gridwidth": 2,
            "linecolor": "white",
            "showbackground": true,
            "ticks": "",
            "zerolinecolor": "white"
           },
           "zaxis": {
            "backgroundcolor": "#E5ECF6",
            "gridcolor": "white",
            "gridwidth": 2,
            "linecolor": "white",
            "showbackground": true,
            "ticks": "",
            "zerolinecolor": "white"
           }
          },
          "shapedefaults": {
           "line": {
            "color": "#2a3f5f"
           }
          },
          "ternary": {
           "aaxis": {
            "gridcolor": "white",
            "linecolor": "white",
            "ticks": ""
           },
           "baxis": {
            "gridcolor": "white",
            "linecolor": "white",
            "ticks": ""
           },
           "bgcolor": "#E5ECF6",
           "caxis": {
            "gridcolor": "white",
            "linecolor": "white",
            "ticks": ""
           }
          },
          "title": {
           "x": 0.05
          },
          "xaxis": {
           "automargin": true,
           "gridcolor": "white",
           "linecolor": "white",
           "ticks": "",
           "title": {
            "standoff": 15
           },
           "zerolinecolor": "white",
           "zerolinewidth": 2
          },
          "yaxis": {
           "automargin": true,
           "gridcolor": "white",
           "linecolor": "white",
           "ticks": "",
           "title": {
            "standoff": 15
           },
           "zerolinecolor": "white",
           "zerolinewidth": 2
          }
         }
        },
        "title": {
         "text": "распределение по типу площадки"
        }
       }
      }
     },
     "metadata": {},
     "output_type": "display_data"
    },
    {
     "data": {
      "application/vnd.plotly.v1+json": {
       "config": {
        "plotlyServerURL": "https://plot.ly"
       },
       "data": [
        {
         "domain": {
          "x": [
           0,
           1
          ],
          "y": [
           0,
           1
          ]
         },
         "hovertemplate": "BannerType=%{label}<br>cpa_count=%{value}<extra></extra>",
         "labels": [
          "text",
          "mcbanner",
          "image_ad",
          "cpm_banner",
          "cpc_video",
          "performance",
          "dynamic"
         ],
         "legendgroup": "",
         "name": "",
         "showlegend": true,
         "type": "pie",
         "values": [
          6884,
          1407,
          1394,
          726,
          60,
          6,
          1
         ]
        }
       ],
       "layout": {
        "legend": {
         "tracegroupgap": 0
        },
        "template": {
         "data": {
          "bar": [
           {
            "error_x": {
             "color": "#2a3f5f"
            },
            "error_y": {
             "color": "#2a3f5f"
            },
            "marker": {
             "line": {
              "color": "#E5ECF6",
              "width": 0.5
             },
             "pattern": {
              "fillmode": "overlay",
              "size": 10,
              "solidity": 0.2
             }
            },
            "type": "bar"
           }
          ],
          "barpolar": [
           {
            "marker": {
             "line": {
              "color": "#E5ECF6",
              "width": 0.5
             },
             "pattern": {
              "fillmode": "overlay",
              "size": 10,
              "solidity": 0.2
             }
            },
            "type": "barpolar"
           }
          ],
          "carpet": [
           {
            "aaxis": {
             "endlinecolor": "#2a3f5f",
             "gridcolor": "white",
             "linecolor": "white",
             "minorgridcolor": "white",
             "startlinecolor": "#2a3f5f"
            },
            "baxis": {
             "endlinecolor": "#2a3f5f",
             "gridcolor": "white",
             "linecolor": "white",
             "minorgridcolor": "white",
             "startlinecolor": "#2a3f5f"
            },
            "type": "carpet"
           }
          ],
          "choropleth": [
           {
            "colorbar": {
             "outlinewidth": 0,
             "ticks": ""
            },
            "type": "choropleth"
           }
          ],
          "contour": [
           {
            "colorbar": {
             "outlinewidth": 0,
             "ticks": ""
            },
            "colorscale": [
             [
              0,
              "#0d0887"
             ],
             [
              0.1111111111111111,
              "#46039f"
             ],
             [
              0.2222222222222222,
              "#7201a8"
             ],
             [
              0.3333333333333333,
              "#9c179e"
             ],
             [
              0.4444444444444444,
              "#bd3786"
             ],
             [
              0.5555555555555556,
              "#d8576b"
             ],
             [
              0.6666666666666666,
              "#ed7953"
             ],
             [
              0.7777777777777778,
              "#fb9f3a"
             ],
             [
              0.8888888888888888,
              "#fdca26"
             ],
             [
              1,
              "#f0f921"
             ]
            ],
            "type": "contour"
           }
          ],
          "contourcarpet": [
           {
            "colorbar": {
             "outlinewidth": 0,
             "ticks": ""
            },
            "type": "contourcarpet"
           }
          ],
          "heatmap": [
           {
            "colorbar": {
             "outlinewidth": 0,
             "ticks": ""
            },
            "colorscale": [
             [
              0,
              "#0d0887"
             ],
             [
              0.1111111111111111,
              "#46039f"
             ],
             [
              0.2222222222222222,
              "#7201a8"
             ],
             [
              0.3333333333333333,
              "#9c179e"
             ],
             [
              0.4444444444444444,
              "#bd3786"
             ],
             [
              0.5555555555555556,
              "#d8576b"
             ],
             [
              0.6666666666666666,
              "#ed7953"
             ],
             [
              0.7777777777777778,
              "#fb9f3a"
             ],
             [
              0.8888888888888888,
              "#fdca26"
             ],
             [
              1,
              "#f0f921"
             ]
            ],
            "type": "heatmap"
           }
          ],
          "heatmapgl": [
           {
            "colorbar": {
             "outlinewidth": 0,
             "ticks": ""
            },
            "colorscale": [
             [
              0,
              "#0d0887"
             ],
             [
              0.1111111111111111,
              "#46039f"
             ],
             [
              0.2222222222222222,
              "#7201a8"
             ],
             [
              0.3333333333333333,
              "#9c179e"
             ],
             [
              0.4444444444444444,
              "#bd3786"
             ],
             [
              0.5555555555555556,
              "#d8576b"
             ],
             [
              0.6666666666666666,
              "#ed7953"
             ],
             [
              0.7777777777777778,
              "#fb9f3a"
             ],
             [
              0.8888888888888888,
              "#fdca26"
             ],
             [
              1,
              "#f0f921"
             ]
            ],
            "type": "heatmapgl"
           }
          ],
          "histogram": [
           {
            "marker": {
             "pattern": {
              "fillmode": "overlay",
              "size": 10,
              "solidity": 0.2
             }
            },
            "type": "histogram"
           }
          ],
          "histogram2d": [
           {
            "colorbar": {
             "outlinewidth": 0,
             "ticks": ""
            },
            "colorscale": [
             [
              0,
              "#0d0887"
             ],
             [
              0.1111111111111111,
              "#46039f"
             ],
             [
              0.2222222222222222,
              "#7201a8"
             ],
             [
              0.3333333333333333,
              "#9c179e"
             ],
             [
              0.4444444444444444,
              "#bd3786"
             ],
             [
              0.5555555555555556,
              "#d8576b"
             ],
             [
              0.6666666666666666,
              "#ed7953"
             ],
             [
              0.7777777777777778,
              "#fb9f3a"
             ],
             [
              0.8888888888888888,
              "#fdca26"
             ],
             [
              1,
              "#f0f921"
             ]
            ],
            "type": "histogram2d"
           }
          ],
          "histogram2dcontour": [
           {
            "colorbar": {
             "outlinewidth": 0,
             "ticks": ""
            },
            "colorscale": [
             [
              0,
              "#0d0887"
             ],
             [
              0.1111111111111111,
              "#46039f"
             ],
             [
              0.2222222222222222,
              "#7201a8"
             ],
             [
              0.3333333333333333,
              "#9c179e"
             ],
             [
              0.4444444444444444,
              "#bd3786"
             ],
             [
              0.5555555555555556,
              "#d8576b"
             ],
             [
              0.6666666666666666,
              "#ed7953"
             ],
             [
              0.7777777777777778,
              "#fb9f3a"
             ],
             [
              0.8888888888888888,
              "#fdca26"
             ],
             [
              1,
              "#f0f921"
             ]
            ],
            "type": "histogram2dcontour"
           }
          ],
          "mesh3d": [
           {
            "colorbar": {
             "outlinewidth": 0,
             "ticks": ""
            },
            "type": "mesh3d"
           }
          ],
          "parcoords": [
           {
            "line": {
             "colorbar": {
              "outlinewidth": 0,
              "ticks": ""
             }
            },
            "type": "parcoords"
           }
          ],
          "pie": [
           {
            "automargin": true,
            "type": "pie"
           }
          ],
          "scatter": [
           {
            "fillpattern": {
             "fillmode": "overlay",
             "size": 10,
             "solidity": 0.2
            },
            "type": "scatter"
           }
          ],
          "scatter3d": [
           {
            "line": {
             "colorbar": {
              "outlinewidth": 0,
              "ticks": ""
             }
            },
            "marker": {
             "colorbar": {
              "outlinewidth": 0,
              "ticks": ""
             }
            },
            "type": "scatter3d"
           }
          ],
          "scattercarpet": [
           {
            "marker": {
             "colorbar": {
              "outlinewidth": 0,
              "ticks": ""
             }
            },
            "type": "scattercarpet"
           }
          ],
          "scattergeo": [
           {
            "marker": {
             "colorbar": {
              "outlinewidth": 0,
              "ticks": ""
             }
            },
            "type": "scattergeo"
           }
          ],
          "scattergl": [
           {
            "marker": {
             "colorbar": {
              "outlinewidth": 0,
              "ticks": ""
             }
            },
            "type": "scattergl"
           }
          ],
          "scattermapbox": [
           {
            "marker": {
             "colorbar": {
              "outlinewidth": 0,
              "ticks": ""
             }
            },
            "type": "scattermapbox"
           }
          ],
          "scatterpolar": [
           {
            "marker": {
             "colorbar": {
              "outlinewidth": 0,
              "ticks": ""
             }
            },
            "type": "scatterpolar"
           }
          ],
          "scatterpolargl": [
           {
            "marker": {
             "colorbar": {
              "outlinewidth": 0,
              "ticks": ""
             }
            },
            "type": "scatterpolargl"
           }
          ],
          "scatterternary": [
           {
            "marker": {
             "colorbar": {
              "outlinewidth": 0,
              "ticks": ""
             }
            },
            "type": "scatterternary"
           }
          ],
          "surface": [
           {
            "colorbar": {
             "outlinewidth": 0,
             "ticks": ""
            },
            "colorscale": [
             [
              0,
              "#0d0887"
             ],
             [
              0.1111111111111111,
              "#46039f"
             ],
             [
              0.2222222222222222,
              "#7201a8"
             ],
             [
              0.3333333333333333,
              "#9c179e"
             ],
             [
              0.4444444444444444,
              "#bd3786"
             ],
             [
              0.5555555555555556,
              "#d8576b"
             ],
             [
              0.6666666666666666,
              "#ed7953"
             ],
             [
              0.7777777777777778,
              "#fb9f3a"
             ],
             [
              0.8888888888888888,
              "#fdca26"
             ],
             [
              1,
              "#f0f921"
             ]
            ],
            "type": "surface"
           }
          ],
          "table": [
           {
            "cells": {
             "fill": {
              "color": "#EBF0F8"
             },
             "line": {
              "color": "white"
             }
            },
            "header": {
             "fill": {
              "color": "#C8D4E3"
             },
             "line": {
              "color": "white"
             }
            },
            "type": "table"
           }
          ]
         },
         "layout": {
          "annotationdefaults": {
           "arrowcolor": "#2a3f5f",
           "arrowhead": 0,
           "arrowwidth": 1
          },
          "autotypenumbers": "strict",
          "coloraxis": {
           "colorbar": {
            "outlinewidth": 0,
            "ticks": ""
           }
          },
          "colorscale": {
           "diverging": [
            [
             0,
             "#8e0152"
            ],
            [
             0.1,
             "#c51b7d"
            ],
            [
             0.2,
             "#de77ae"
            ],
            [
             0.3,
             "#f1b6da"
            ],
            [
             0.4,
             "#fde0ef"
            ],
            [
             0.5,
             "#f7f7f7"
            ],
            [
             0.6,
             "#e6f5d0"
            ],
            [
             0.7,
             "#b8e186"
            ],
            [
             0.8,
             "#7fbc41"
            ],
            [
             0.9,
             "#4d9221"
            ],
            [
             1,
             "#276419"
            ]
           ],
           "sequential": [
            [
             0,
             "#0d0887"
            ],
            [
             0.1111111111111111,
             "#46039f"
            ],
            [
             0.2222222222222222,
             "#7201a8"
            ],
            [
             0.3333333333333333,
             "#9c179e"
            ],
            [
             0.4444444444444444,
             "#bd3786"
            ],
            [
             0.5555555555555556,
             "#d8576b"
            ],
            [
             0.6666666666666666,
             "#ed7953"
            ],
            [
             0.7777777777777778,
             "#fb9f3a"
            ],
            [
             0.8888888888888888,
             "#fdca26"
            ],
            [
             1,
             "#f0f921"
            ]
           ],
           "sequentialminus": [
            [
             0,
             "#0d0887"
            ],
            [
             0.1111111111111111,
             "#46039f"
            ],
            [
             0.2222222222222222,
             "#7201a8"
            ],
            [
             0.3333333333333333,
             "#9c179e"
            ],
            [
             0.4444444444444444,
             "#bd3786"
            ],
            [
             0.5555555555555556,
             "#d8576b"
            ],
            [
             0.6666666666666666,
             "#ed7953"
            ],
            [
             0.7777777777777778,
             "#fb9f3a"
            ],
            [
             0.8888888888888888,
             "#fdca26"
            ],
            [
             1,
             "#f0f921"
            ]
           ]
          },
          "colorway": [
           "#636efa",
           "#EF553B",
           "#00cc96",
           "#ab63fa",
           "#FFA15A",
           "#19d3f3",
           "#FF6692",
           "#B6E880",
           "#FF97FF",
           "#FECB52"
          ],
          "font": {
           "color": "#2a3f5f"
          },
          "geo": {
           "bgcolor": "white",
           "lakecolor": "white",
           "landcolor": "#E5ECF6",
           "showlakes": true,
           "showland": true,
           "subunitcolor": "white"
          },
          "hoverlabel": {
           "align": "left"
          },
          "hovermode": "closest",
          "mapbox": {
           "style": "light"
          },
          "paper_bgcolor": "white",
          "plot_bgcolor": "#E5ECF6",
          "polar": {
           "angularaxis": {
            "gridcolor": "white",
            "linecolor": "white",
            "ticks": ""
           },
           "bgcolor": "#E5ECF6",
           "radialaxis": {
            "gridcolor": "white",
            "linecolor": "white",
            "ticks": ""
           }
          },
          "scene": {
           "xaxis": {
            "backgroundcolor": "#E5ECF6",
            "gridcolor": "white",
            "gridwidth": 2,
            "linecolor": "white",
            "showbackground": true,
            "ticks": "",
            "zerolinecolor": "white"
           },
           "yaxis": {
            "backgroundcolor": "#E5ECF6",
            "gridcolor": "white",
            "gridwidth": 2,
            "linecolor": "white",
            "showbackground": true,
            "ticks": "",
            "zerolinecolor": "white"
           },
           "zaxis": {
            "backgroundcolor": "#E5ECF6",
            "gridcolor": "white",
            "gridwidth": 2,
            "linecolor": "white",
            "showbackground": true,
            "ticks": "",
            "zerolinecolor": "white"
           }
          },
          "shapedefaults": {
           "line": {
            "color": "#2a3f5f"
           }
          },
          "ternary": {
           "aaxis": {
            "gridcolor": "white",
            "linecolor": "white",
            "ticks": ""
           },
           "baxis": {
            "gridcolor": "white",
            "linecolor": "white",
            "ticks": ""
           },
           "bgcolor": "#E5ECF6",
           "caxis": {
            "gridcolor": "white",
            "linecolor": "white",
            "ticks": ""
           }
          },
          "title": {
           "x": 0.05
          },
          "xaxis": {
           "automargin": true,
           "gridcolor": "white",
           "linecolor": "white",
           "ticks": "",
           "title": {
            "standoff": 15
           },
           "zerolinecolor": "white",
           "zerolinewidth": 2
          },
          "yaxis": {
           "automargin": true,
           "gridcolor": "white",
           "linecolor": "white",
           "ticks": "",
           "title": {
            "standoff": 15
           },
           "zerolinecolor": "white",
           "zerolinewidth": 2
          }
         }
        },
        "title": {
         "text": "распределение по типу объявления"
        }
       }
      }
     },
     "metadata": {},
     "output_type": "display_data"
    },
    {
     "data": {
      "application/vnd.plotly.v1+json": {
       "config": {
        "plotlyServerURL": "https://plot.ly"
       },
       "data": [
        {
         "domain": {
          "x": [
           0,
           1
          ],
          "y": [
           0,
           1
          ]
         },
         "hovertemplate": "QueryType=%{label}<br>cpa_count=%{value}<extra></extra>",
         "labels": [
          "none",
          "other",
          "competitor",
          "brand"
         ],
         "legendgroup": "",
         "name": "",
         "showlegend": true,
         "type": "pie",
         "values": [
          4408,
          2063,
          2008,
          1999
         ]
        }
       ],
       "layout": {
        "legend": {
         "tracegroupgap": 0
        },
        "template": {
         "data": {
          "bar": [
           {
            "error_x": {
             "color": "#2a3f5f"
            },
            "error_y": {
             "color": "#2a3f5f"
            },
            "marker": {
             "line": {
              "color": "#E5ECF6",
              "width": 0.5
             },
             "pattern": {
              "fillmode": "overlay",
              "size": 10,
              "solidity": 0.2
             }
            },
            "type": "bar"
           }
          ],
          "barpolar": [
           {
            "marker": {
             "line": {
              "color": "#E5ECF6",
              "width": 0.5
             },
             "pattern": {
              "fillmode": "overlay",
              "size": 10,
              "solidity": 0.2
             }
            },
            "type": "barpolar"
           }
          ],
          "carpet": [
           {
            "aaxis": {
             "endlinecolor": "#2a3f5f",
             "gridcolor": "white",
             "linecolor": "white",
             "minorgridcolor": "white",
             "startlinecolor": "#2a3f5f"
            },
            "baxis": {
             "endlinecolor": "#2a3f5f",
             "gridcolor": "white",
             "linecolor": "white",
             "minorgridcolor": "white",
             "startlinecolor": "#2a3f5f"
            },
            "type": "carpet"
           }
          ],
          "choropleth": [
           {
            "colorbar": {
             "outlinewidth": 0,
             "ticks": ""
            },
            "type": "choropleth"
           }
          ],
          "contour": [
           {
            "colorbar": {
             "outlinewidth": 0,
             "ticks": ""
            },
            "colorscale": [
             [
              0,
              "#0d0887"
             ],
             [
              0.1111111111111111,
              "#46039f"
             ],
             [
              0.2222222222222222,
              "#7201a8"
             ],
             [
              0.3333333333333333,
              "#9c179e"
             ],
             [
              0.4444444444444444,
              "#bd3786"
             ],
             [
              0.5555555555555556,
              "#d8576b"
             ],
             [
              0.6666666666666666,
              "#ed7953"
             ],
             [
              0.7777777777777778,
              "#fb9f3a"
             ],
             [
              0.8888888888888888,
              "#fdca26"
             ],
             [
              1,
              "#f0f921"
             ]
            ],
            "type": "contour"
           }
          ],
          "contourcarpet": [
           {
            "colorbar": {
             "outlinewidth": 0,
             "ticks": ""
            },
            "type": "contourcarpet"
           }
          ],
          "heatmap": [
           {
            "colorbar": {
             "outlinewidth": 0,
             "ticks": ""
            },
            "colorscale": [
             [
              0,
              "#0d0887"
             ],
             [
              0.1111111111111111,
              "#46039f"
             ],
             [
              0.2222222222222222,
              "#7201a8"
             ],
             [
              0.3333333333333333,
              "#9c179e"
             ],
             [
              0.4444444444444444,
              "#bd3786"
             ],
             [
              0.5555555555555556,
              "#d8576b"
             ],
             [
              0.6666666666666666,
              "#ed7953"
             ],
             [
              0.7777777777777778,
              "#fb9f3a"
             ],
             [
              0.8888888888888888,
              "#fdca26"
             ],
             [
              1,
              "#f0f921"
             ]
            ],
            "type": "heatmap"
           }
          ],
          "heatmapgl": [
           {
            "colorbar": {
             "outlinewidth": 0,
             "ticks": ""
            },
            "colorscale": [
             [
              0,
              "#0d0887"
             ],
             [
              0.1111111111111111,
              "#46039f"
             ],
             [
              0.2222222222222222,
              "#7201a8"
             ],
             [
              0.3333333333333333,
              "#9c179e"
             ],
             [
              0.4444444444444444,
              "#bd3786"
             ],
             [
              0.5555555555555556,
              "#d8576b"
             ],
             [
              0.6666666666666666,
              "#ed7953"
             ],
             [
              0.7777777777777778,
              "#fb9f3a"
             ],
             [
              0.8888888888888888,
              "#fdca26"
             ],
             [
              1,
              "#f0f921"
             ]
            ],
            "type": "heatmapgl"
           }
          ],
          "histogram": [
           {
            "marker": {
             "pattern": {
              "fillmode": "overlay",
              "size": 10,
              "solidity": 0.2
             }
            },
            "type": "histogram"
           }
          ],
          "histogram2d": [
           {
            "colorbar": {
             "outlinewidth": 0,
             "ticks": ""
            },
            "colorscale": [
             [
              0,
              "#0d0887"
             ],
             [
              0.1111111111111111,
              "#46039f"
             ],
             [
              0.2222222222222222,
              "#7201a8"
             ],
             [
              0.3333333333333333,
              "#9c179e"
             ],
             [
              0.4444444444444444,
              "#bd3786"
             ],
             [
              0.5555555555555556,
              "#d8576b"
             ],
             [
              0.6666666666666666,
              "#ed7953"
             ],
             [
              0.7777777777777778,
              "#fb9f3a"
             ],
             [
              0.8888888888888888,
              "#fdca26"
             ],
             [
              1,
              "#f0f921"
             ]
            ],
            "type": "histogram2d"
           }
          ],
          "histogram2dcontour": [
           {
            "colorbar": {
             "outlinewidth": 0,
             "ticks": ""
            },
            "colorscale": [
             [
              0,
              "#0d0887"
             ],
             [
              0.1111111111111111,
              "#46039f"
             ],
             [
              0.2222222222222222,
              "#7201a8"
             ],
             [
              0.3333333333333333,
              "#9c179e"
             ],
             [
              0.4444444444444444,
              "#bd3786"
             ],
             [
              0.5555555555555556,
              "#d8576b"
             ],
             [
              0.6666666666666666,
              "#ed7953"
             ],
             [
              0.7777777777777778,
              "#fb9f3a"
             ],
             [
              0.8888888888888888,
              "#fdca26"
             ],
             [
              1,
              "#f0f921"
             ]
            ],
            "type": "histogram2dcontour"
           }
          ],
          "mesh3d": [
           {
            "colorbar": {
             "outlinewidth": 0,
             "ticks": ""
            },
            "type": "mesh3d"
           }
          ],
          "parcoords": [
           {
            "line": {
             "colorbar": {
              "outlinewidth": 0,
              "ticks": ""
             }
            },
            "type": "parcoords"
           }
          ],
          "pie": [
           {
            "automargin": true,
            "type": "pie"
           }
          ],
          "scatter": [
           {
            "fillpattern": {
             "fillmode": "overlay",
             "size": 10,
             "solidity": 0.2
            },
            "type": "scatter"
           }
          ],
          "scatter3d": [
           {
            "line": {
             "colorbar": {
              "outlinewidth": 0,
              "ticks": ""
             }
            },
            "marker": {
             "colorbar": {
              "outlinewidth": 0,
              "ticks": ""
             }
            },
            "type": "scatter3d"
           }
          ],
          "scattercarpet": [
           {
            "marker": {
             "colorbar": {
              "outlinewidth": 0,
              "ticks": ""
             }
            },
            "type": "scattercarpet"
           }
          ],
          "scattergeo": [
           {
            "marker": {
             "colorbar": {
              "outlinewidth": 0,
              "ticks": ""
             }
            },
            "type": "scattergeo"
           }
          ],
          "scattergl": [
           {
            "marker": {
             "colorbar": {
              "outlinewidth": 0,
              "ticks": ""
             }
            },
            "type": "scattergl"
           }
          ],
          "scattermapbox": [
           {
            "marker": {
             "colorbar": {
              "outlinewidth": 0,
              "ticks": ""
             }
            },
            "type": "scattermapbox"
           }
          ],
          "scatterpolar": [
           {
            "marker": {
             "colorbar": {
              "outlinewidth": 0,
              "ticks": ""
             }
            },
            "type": "scatterpolar"
           }
          ],
          "scatterpolargl": [
           {
            "marker": {
             "colorbar": {
              "outlinewidth": 0,
              "ticks": ""
             }
            },
            "type": "scatterpolargl"
           }
          ],
          "scatterternary": [
           {
            "marker": {
             "colorbar": {
              "outlinewidth": 0,
              "ticks": ""
             }
            },
            "type": "scatterternary"
           }
          ],
          "surface": [
           {
            "colorbar": {
             "outlinewidth": 0,
             "ticks": ""
            },
            "colorscale": [
             [
              0,
              "#0d0887"
             ],
             [
              0.1111111111111111,
              "#46039f"
             ],
             [
              0.2222222222222222,
              "#7201a8"
             ],
             [
              0.3333333333333333,
              "#9c179e"
             ],
             [
              0.4444444444444444,
              "#bd3786"
             ],
             [
              0.5555555555555556,
              "#d8576b"
             ],
             [
              0.6666666666666666,
              "#ed7953"
             ],
             [
              0.7777777777777778,
              "#fb9f3a"
             ],
             [
              0.8888888888888888,
              "#fdca26"
             ],
             [
              1,
              "#f0f921"
             ]
            ],
            "type": "surface"
           }
          ],
          "table": [
           {
            "cells": {
             "fill": {
              "color": "#EBF0F8"
             },
             "line": {
              "color": "white"
             }
            },
            "header": {
             "fill": {
              "color": "#C8D4E3"
             },
             "line": {
              "color": "white"
             }
            },
            "type": "table"
           }
          ]
         },
         "layout": {
          "annotationdefaults": {
           "arrowcolor": "#2a3f5f",
           "arrowhead": 0,
           "arrowwidth": 1
          },
          "autotypenumbers": "strict",
          "coloraxis": {
           "colorbar": {
            "outlinewidth": 0,
            "ticks": ""
           }
          },
          "colorscale": {
           "diverging": [
            [
             0,
             "#8e0152"
            ],
            [
             0.1,
             "#c51b7d"
            ],
            [
             0.2,
             "#de77ae"
            ],
            [
             0.3,
             "#f1b6da"
            ],
            [
             0.4,
             "#fde0ef"
            ],
            [
             0.5,
             "#f7f7f7"
            ],
            [
             0.6,
             "#e6f5d0"
            ],
            [
             0.7,
             "#b8e186"
            ],
            [
             0.8,
             "#7fbc41"
            ],
            [
             0.9,
             "#4d9221"
            ],
            [
             1,
             "#276419"
            ]
           ],
           "sequential": [
            [
             0,
             "#0d0887"
            ],
            [
             0.1111111111111111,
             "#46039f"
            ],
            [
             0.2222222222222222,
             "#7201a8"
            ],
            [
             0.3333333333333333,
             "#9c179e"
            ],
            [
             0.4444444444444444,
             "#bd3786"
            ],
            [
             0.5555555555555556,
             "#d8576b"
            ],
            [
             0.6666666666666666,
             "#ed7953"
            ],
            [
             0.7777777777777778,
             "#fb9f3a"
            ],
            [
             0.8888888888888888,
             "#fdca26"
            ],
            [
             1,
             "#f0f921"
            ]
           ],
           "sequentialminus": [
            [
             0,
             "#0d0887"
            ],
            [
             0.1111111111111111,
             "#46039f"
            ],
            [
             0.2222222222222222,
             "#7201a8"
            ],
            [
             0.3333333333333333,
             "#9c179e"
            ],
            [
             0.4444444444444444,
             "#bd3786"
            ],
            [
             0.5555555555555556,
             "#d8576b"
            ],
            [
             0.6666666666666666,
             "#ed7953"
            ],
            [
             0.7777777777777778,
             "#fb9f3a"
            ],
            [
             0.8888888888888888,
             "#fdca26"
            ],
            [
             1,
             "#f0f921"
            ]
           ]
          },
          "colorway": [
           "#636efa",
           "#EF553B",
           "#00cc96",
           "#ab63fa",
           "#FFA15A",
           "#19d3f3",
           "#FF6692",
           "#B6E880",
           "#FF97FF",
           "#FECB52"
          ],
          "font": {
           "color": "#2a3f5f"
          },
          "geo": {
           "bgcolor": "white",
           "lakecolor": "white",
           "landcolor": "#E5ECF6",
           "showlakes": true,
           "showland": true,
           "subunitcolor": "white"
          },
          "hoverlabel": {
           "align": "left"
          },
          "hovermode": "closest",
          "mapbox": {
           "style": "light"
          },
          "paper_bgcolor": "white",
          "plot_bgcolor": "#E5ECF6",
          "polar": {
           "angularaxis": {
            "gridcolor": "white",
            "linecolor": "white",
            "ticks": ""
           },
           "bgcolor": "#E5ECF6",
           "radialaxis": {
            "gridcolor": "white",
            "linecolor": "white",
            "ticks": ""
           }
          },
          "scene": {
           "xaxis": {
            "backgroundcolor": "#E5ECF6",
            "gridcolor": "white",
            "gridwidth": 2,
            "linecolor": "white",
            "showbackground": true,
            "ticks": "",
            "zerolinecolor": "white"
           },
           "yaxis": {
            "backgroundcolor": "#E5ECF6",
            "gridcolor": "white",
            "gridwidth": 2,
            "linecolor": "white",
            "showbackground": true,
            "ticks": "",
            "zerolinecolor": "white"
           },
           "zaxis": {
            "backgroundcolor": "#E5ECF6",
            "gridcolor": "white",
            "gridwidth": 2,
            "linecolor": "white",
            "showbackground": true,
            "ticks": "",
            "zerolinecolor": "white"
           }
          },
          "shapedefaults": {
           "line": {
            "color": "#2a3f5f"
           }
          },
          "ternary": {
           "aaxis": {
            "gridcolor": "white",
            "linecolor": "white",
            "ticks": ""
           },
           "baxis": {
            "gridcolor": "white",
            "linecolor": "white",
            "ticks": ""
           },
           "bgcolor": "#E5ECF6",
           "caxis": {
            "gridcolor": "white",
            "linecolor": "white",
            "ticks": ""
           }
          },
          "title": {
           "x": 0.05
          },
          "xaxis": {
           "automargin": true,
           "gridcolor": "white",
           "linecolor": "white",
           "ticks": "",
           "title": {
            "standoff": 15
           },
           "zerolinecolor": "white",
           "zerolinewidth": 2
          },
          "yaxis": {
           "automargin": true,
           "gridcolor": "white",
           "linecolor": "white",
           "ticks": "",
           "title": {
            "standoff": 15
           },
           "zerolinecolor": "white",
           "zerolinewidth": 2
          }
         }
        },
        "title": {
         "text": "распределение по типу запроса"
        }
       }
      }
     },
     "metadata": {},
     "output_type": "display_data"
    },
    {
     "data": {
      "application/vnd.plotly.v1+json": {
       "config": {
        "plotlyServerURL": "https://plot.ly"
       },
       "data": [
        {
         "domain": {
          "x": [
           0,
           1
          ],
          "y": [
           0,
           1
          ]
         },
         "hovertemplate": "TargetingType=%{label}<br>cpa_count=%{value}<extra></extra>",
         "labels": [
          "phrase",
          "retargeting",
          "autotargeting"
         ],
         "legendgroup": "",
         "name": "",
         "showlegend": true,
         "type": "pie",
         "values": [
          7960,
          2214,
          304
         ]
        }
       ],
       "layout": {
        "legend": {
         "tracegroupgap": 0
        },
        "template": {
         "data": {
          "bar": [
           {
            "error_x": {
             "color": "#2a3f5f"
            },
            "error_y": {
             "color": "#2a3f5f"
            },
            "marker": {
             "line": {
              "color": "#E5ECF6",
              "width": 0.5
             },
             "pattern": {
              "fillmode": "overlay",
              "size": 10,
              "solidity": 0.2
             }
            },
            "type": "bar"
           }
          ],
          "barpolar": [
           {
            "marker": {
             "line": {
              "color": "#E5ECF6",
              "width": 0.5
             },
             "pattern": {
              "fillmode": "overlay",
              "size": 10,
              "solidity": 0.2
             }
            },
            "type": "barpolar"
           }
          ],
          "carpet": [
           {
            "aaxis": {
             "endlinecolor": "#2a3f5f",
             "gridcolor": "white",
             "linecolor": "white",
             "minorgridcolor": "white",
             "startlinecolor": "#2a3f5f"
            },
            "baxis": {
             "endlinecolor": "#2a3f5f",
             "gridcolor": "white",
             "linecolor": "white",
             "minorgridcolor": "white",
             "startlinecolor": "#2a3f5f"
            },
            "type": "carpet"
           }
          ],
          "choropleth": [
           {
            "colorbar": {
             "outlinewidth": 0,
             "ticks": ""
            },
            "type": "choropleth"
           }
          ],
          "contour": [
           {
            "colorbar": {
             "outlinewidth": 0,
             "ticks": ""
            },
            "colorscale": [
             [
              0,
              "#0d0887"
             ],
             [
              0.1111111111111111,
              "#46039f"
             ],
             [
              0.2222222222222222,
              "#7201a8"
             ],
             [
              0.3333333333333333,
              "#9c179e"
             ],
             [
              0.4444444444444444,
              "#bd3786"
             ],
             [
              0.5555555555555556,
              "#d8576b"
             ],
             [
              0.6666666666666666,
              "#ed7953"
             ],
             [
              0.7777777777777778,
              "#fb9f3a"
             ],
             [
              0.8888888888888888,
              "#fdca26"
             ],
             [
              1,
              "#f0f921"
             ]
            ],
            "type": "contour"
           }
          ],
          "contourcarpet": [
           {
            "colorbar": {
             "outlinewidth": 0,
             "ticks": ""
            },
            "type": "contourcarpet"
           }
          ],
          "heatmap": [
           {
            "colorbar": {
             "outlinewidth": 0,
             "ticks": ""
            },
            "colorscale": [
             [
              0,
              "#0d0887"
             ],
             [
              0.1111111111111111,
              "#46039f"
             ],
             [
              0.2222222222222222,
              "#7201a8"
             ],
             [
              0.3333333333333333,
              "#9c179e"
             ],
             [
              0.4444444444444444,
              "#bd3786"
             ],
             [
              0.5555555555555556,
              "#d8576b"
             ],
             [
              0.6666666666666666,
              "#ed7953"
             ],
             [
              0.7777777777777778,
              "#fb9f3a"
             ],
             [
              0.8888888888888888,
              "#fdca26"
             ],
             [
              1,
              "#f0f921"
             ]
            ],
            "type": "heatmap"
           }
          ],
          "heatmapgl": [
           {
            "colorbar": {
             "outlinewidth": 0,
             "ticks": ""
            },
            "colorscale": [
             [
              0,
              "#0d0887"
             ],
             [
              0.1111111111111111,
              "#46039f"
             ],
             [
              0.2222222222222222,
              "#7201a8"
             ],
             [
              0.3333333333333333,
              "#9c179e"
             ],
             [
              0.4444444444444444,
              "#bd3786"
             ],
             [
              0.5555555555555556,
              "#d8576b"
             ],
             [
              0.6666666666666666,
              "#ed7953"
             ],
             [
              0.7777777777777778,
              "#fb9f3a"
             ],
             [
              0.8888888888888888,
              "#fdca26"
             ],
             [
              1,
              "#f0f921"
             ]
            ],
            "type": "heatmapgl"
           }
          ],
          "histogram": [
           {
            "marker": {
             "pattern": {
              "fillmode": "overlay",
              "size": 10,
              "solidity": 0.2
             }
            },
            "type": "histogram"
           }
          ],
          "histogram2d": [
           {
            "colorbar": {
             "outlinewidth": 0,
             "ticks": ""
            },
            "colorscale": [
             [
              0,
              "#0d0887"
             ],
             [
              0.1111111111111111,
              "#46039f"
             ],
             [
              0.2222222222222222,
              "#7201a8"
             ],
             [
              0.3333333333333333,
              "#9c179e"
             ],
             [
              0.4444444444444444,
              "#bd3786"
             ],
             [
              0.5555555555555556,
              "#d8576b"
             ],
             [
              0.6666666666666666,
              "#ed7953"
             ],
             [
              0.7777777777777778,
              "#fb9f3a"
             ],
             [
              0.8888888888888888,
              "#fdca26"
             ],
             [
              1,
              "#f0f921"
             ]
            ],
            "type": "histogram2d"
           }
          ],
          "histogram2dcontour": [
           {
            "colorbar": {
             "outlinewidth": 0,
             "ticks": ""
            },
            "colorscale": [
             [
              0,
              "#0d0887"
             ],
             [
              0.1111111111111111,
              "#46039f"
             ],
             [
              0.2222222222222222,
              "#7201a8"
             ],
             [
              0.3333333333333333,
              "#9c179e"
             ],
             [
              0.4444444444444444,
              "#bd3786"
             ],
             [
              0.5555555555555556,
              "#d8576b"
             ],
             [
              0.6666666666666666,
              "#ed7953"
             ],
             [
              0.7777777777777778,
              "#fb9f3a"
             ],
             [
              0.8888888888888888,
              "#fdca26"
             ],
             [
              1,
              "#f0f921"
             ]
            ],
            "type": "histogram2dcontour"
           }
          ],
          "mesh3d": [
           {
            "colorbar": {
             "outlinewidth": 0,
             "ticks": ""
            },
            "type": "mesh3d"
           }
          ],
          "parcoords": [
           {
            "line": {
             "colorbar": {
              "outlinewidth": 0,
              "ticks": ""
             }
            },
            "type": "parcoords"
           }
          ],
          "pie": [
           {
            "automargin": true,
            "type": "pie"
           }
          ],
          "scatter": [
           {
            "fillpattern": {
             "fillmode": "overlay",
             "size": 10,
             "solidity": 0.2
            },
            "type": "scatter"
           }
          ],
          "scatter3d": [
           {
            "line": {
             "colorbar": {
              "outlinewidth": 0,
              "ticks": ""
             }
            },
            "marker": {
             "colorbar": {
              "outlinewidth": 0,
              "ticks": ""
             }
            },
            "type": "scatter3d"
           }
          ],
          "scattercarpet": [
           {
            "marker": {
             "colorbar": {
              "outlinewidth": 0,
              "ticks": ""
             }
            },
            "type": "scattercarpet"
           }
          ],
          "scattergeo": [
           {
            "marker": {
             "colorbar": {
              "outlinewidth": 0,
              "ticks": ""
             }
            },
            "type": "scattergeo"
           }
          ],
          "scattergl": [
           {
            "marker": {
             "colorbar": {
              "outlinewidth": 0,
              "ticks": ""
             }
            },
            "type": "scattergl"
           }
          ],
          "scattermapbox": [
           {
            "marker": {
             "colorbar": {
              "outlinewidth": 0,
              "ticks": ""
             }
            },
            "type": "scattermapbox"
           }
          ],
          "scatterpolar": [
           {
            "marker": {
             "colorbar": {
              "outlinewidth": 0,
              "ticks": ""
             }
            },
            "type": "scatterpolar"
           }
          ],
          "scatterpolargl": [
           {
            "marker": {
             "colorbar": {
              "outlinewidth": 0,
              "ticks": ""
             }
            },
            "type": "scatterpolargl"
           }
          ],
          "scatterternary": [
           {
            "marker": {
             "colorbar": {
              "outlinewidth": 0,
              "ticks": ""
             }
            },
            "type": "scatterternary"
           }
          ],
          "surface": [
           {
            "colorbar": {
             "outlinewidth": 0,
             "ticks": ""
            },
            "colorscale": [
             [
              0,
              "#0d0887"
             ],
             [
              0.1111111111111111,
              "#46039f"
             ],
             [
              0.2222222222222222,
              "#7201a8"
             ],
             [
              0.3333333333333333,
              "#9c179e"
             ],
             [
              0.4444444444444444,
              "#bd3786"
             ],
             [
              0.5555555555555556,
              "#d8576b"
             ],
             [
              0.6666666666666666,
              "#ed7953"
             ],
             [
              0.7777777777777778,
              "#fb9f3a"
             ],
             [
              0.8888888888888888,
              "#fdca26"
             ],
             [
              1,
              "#f0f921"
             ]
            ],
            "type": "surface"
           }
          ],
          "table": [
           {
            "cells": {
             "fill": {
              "color": "#EBF0F8"
             },
             "line": {
              "color": "white"
             }
            },
            "header": {
             "fill": {
              "color": "#C8D4E3"
             },
             "line": {
              "color": "white"
             }
            },
            "type": "table"
           }
          ]
         },
         "layout": {
          "annotationdefaults": {
           "arrowcolor": "#2a3f5f",
           "arrowhead": 0,
           "arrowwidth": 1
          },
          "autotypenumbers": "strict",
          "coloraxis": {
           "colorbar": {
            "outlinewidth": 0,
            "ticks": ""
           }
          },
          "colorscale": {
           "diverging": [
            [
             0,
             "#8e0152"
            ],
            [
             0.1,
             "#c51b7d"
            ],
            [
             0.2,
             "#de77ae"
            ],
            [
             0.3,
             "#f1b6da"
            ],
            [
             0.4,
             "#fde0ef"
            ],
            [
             0.5,
             "#f7f7f7"
            ],
            [
             0.6,
             "#e6f5d0"
            ],
            [
             0.7,
             "#b8e186"
            ],
            [
             0.8,
             "#7fbc41"
            ],
            [
             0.9,
             "#4d9221"
            ],
            [
             1,
             "#276419"
            ]
           ],
           "sequential": [
            [
             0,
             "#0d0887"
            ],
            [
             0.1111111111111111,
             "#46039f"
            ],
            [
             0.2222222222222222,
             "#7201a8"
            ],
            [
             0.3333333333333333,
             "#9c179e"
            ],
            [
             0.4444444444444444,
             "#bd3786"
            ],
            [
             0.5555555555555556,
             "#d8576b"
            ],
            [
             0.6666666666666666,
             "#ed7953"
            ],
            [
             0.7777777777777778,
             "#fb9f3a"
            ],
            [
             0.8888888888888888,
             "#fdca26"
            ],
            [
             1,
             "#f0f921"
            ]
           ],
           "sequentialminus": [
            [
             0,
             "#0d0887"
            ],
            [
             0.1111111111111111,
             "#46039f"
            ],
            [
             0.2222222222222222,
             "#7201a8"
            ],
            [
             0.3333333333333333,
             "#9c179e"
            ],
            [
             0.4444444444444444,
             "#bd3786"
            ],
            [
             0.5555555555555556,
             "#d8576b"
            ],
            [
             0.6666666666666666,
             "#ed7953"
            ],
            [
             0.7777777777777778,
             "#fb9f3a"
            ],
            [
             0.8888888888888888,
             "#fdca26"
            ],
            [
             1,
             "#f0f921"
            ]
           ]
          },
          "colorway": [
           "#636efa",
           "#EF553B",
           "#00cc96",
           "#ab63fa",
           "#FFA15A",
           "#19d3f3",
           "#FF6692",
           "#B6E880",
           "#FF97FF",
           "#FECB52"
          ],
          "font": {
           "color": "#2a3f5f"
          },
          "geo": {
           "bgcolor": "white",
           "lakecolor": "white",
           "landcolor": "#E5ECF6",
           "showlakes": true,
           "showland": true,
           "subunitcolor": "white"
          },
          "hoverlabel": {
           "align": "left"
          },
          "hovermode": "closest",
          "mapbox": {
           "style": "light"
          },
          "paper_bgcolor": "white",
          "plot_bgcolor": "#E5ECF6",
          "polar": {
           "angularaxis": {
            "gridcolor": "white",
            "linecolor": "white",
            "ticks": ""
           },
           "bgcolor": "#E5ECF6",
           "radialaxis": {
            "gridcolor": "white",
            "linecolor": "white",
            "ticks": ""
           }
          },
          "scene": {
           "xaxis": {
            "backgroundcolor": "#E5ECF6",
            "gridcolor": "white",
            "gridwidth": 2,
            "linecolor": "white",
            "showbackground": true,
            "ticks": "",
            "zerolinecolor": "white"
           },
           "yaxis": {
            "backgroundcolor": "#E5ECF6",
            "gridcolor": "white",
            "gridwidth": 2,
            "linecolor": "white",
            "showbackground": true,
            "ticks": "",
            "zerolinecolor": "white"
           },
           "zaxis": {
            "backgroundcolor": "#E5ECF6",
            "gridcolor": "white",
            "gridwidth": 2,
            "linecolor": "white",
            "showbackground": true,
            "ticks": "",
            "zerolinecolor": "white"
           }
          },
          "shapedefaults": {
           "line": {
            "color": "#2a3f5f"
           }
          },
          "ternary": {
           "aaxis": {
            "gridcolor": "white",
            "linecolor": "white",
            "ticks": ""
           },
           "baxis": {
            "gridcolor": "white",
            "linecolor": "white",
            "ticks": ""
           },
           "bgcolor": "#E5ECF6",
           "caxis": {
            "gridcolor": "white",
            "linecolor": "white",
            "ticks": ""
           }
          },
          "title": {
           "x": 0.05
          },
          "xaxis": {
           "automargin": true,
           "gridcolor": "white",
           "linecolor": "white",
           "ticks": "",
           "title": {
            "standoff": 15
           },
           "zerolinecolor": "white",
           "zerolinewidth": 2
          },
          "yaxis": {
           "automargin": true,
           "gridcolor": "white",
           "linecolor": "white",
           "ticks": "",
           "title": {
            "standoff": 15
           },
           "zerolinecolor": "white",
           "zerolinewidth": 2
          }
         }
        },
        "title": {
         "text": "распределение по типу таргетинга"
        }
       }
      }
     },
     "metadata": {},
     "output_type": "display_data"
    },
    {
     "name": "stdout",
     "output_type": "stream",
     "text": [
      "Shows\n"
     ]
    },
    {
     "data": {
      "application/vnd.jupyter.widget-view+json": {
       "model_id": "ca98d54ecf62464ba6d5fdf3cc5f25e3",
       "version_major": 2,
       "version_minor": 0
      },
      "text/plain": [
       "interactive(children=(Dropdown(description='graphs', options=('boxplot', 'detail_box_plot', 'scatterplot', 'vi…"
      ]
     },
     "metadata": {},
     "output_type": "display_data"
    },
    {
     "name": "stdout",
     "output_type": "stream",
     "text": [
      "iqr - 132641.5\n",
      "q75 - 132642.5\n",
      "q25 - 1.0\n",
      "минимальное неаномальное значение 0 \n",
      "максимальное неаномальное значение 331604.75\n",
      "выбросов % -  15.47\n"
     ]
    },
    {
     "data": {
      "application/vnd.jupyter.widget-view+json": {
       "model_id": "6b7d4e2ac57d42dd8fc476dc357fb5f8",
       "version_major": 2,
       "version_minor": 0
      },
      "text/plain": [
       "Button(button_style='info', description='Узнать больше!', style=ButtonStyle())"
      ]
     },
     "metadata": {},
     "output_type": "display_data"
    },
    {
     "name": "stdout",
     "output_type": "stream",
     "text": [
      "****************************************************************************************************\n",
      "Clicks\n"
     ]
    },
    {
     "data": {
      "application/vnd.jupyter.widget-view+json": {
       "model_id": "f8e3dbcab2884420926d695791c444c1",
       "version_major": 2,
       "version_minor": 0
      },
      "text/plain": [
       "interactive(children=(Dropdown(description='graphs', options=('boxplot', 'detail_box_plot', 'scatterplot', 'vi…"
      ]
     },
     "metadata": {},
     "output_type": "display_data"
    },
    {
     "name": "stdout",
     "output_type": "stream",
     "text": [
      "iqr - 5130.25\n",
      "q75 - 5130.25\n",
      "q25 - 0.0\n",
      "минимальное неаномальное значение 0 \n",
      "максимальное неаномальное значение 12825.625\n",
      "выбросов % -  15.3\n"
     ]
    },
    {
     "data": {
      "application/vnd.jupyter.widget-view+json": {
       "model_id": "30a8b95f0b0344f895517bfe40edc750",
       "version_major": 2,
       "version_minor": 0
      },
      "text/plain": [
       "Button(button_style='info', description='Узнать больше!', style=ButtonStyle())"
      ]
     },
     "metadata": {},
     "output_type": "display_data"
    },
    {
     "name": "stdout",
     "output_type": "stream",
     "text": [
      "****************************************************************************************************\n",
      "Cost\n"
     ]
    },
    {
     "data": {
      "application/vnd.jupyter.widget-view+json": {
       "model_id": "02938353c8d14019b00e653a2d29edc2",
       "version_major": 2,
       "version_minor": 0
      },
      "text/plain": [
       "interactive(children=(Dropdown(description='graphs', options=('boxplot', 'detail_box_plot', 'scatterplot', 'vi…"
      ]
     },
     "metadata": {},
     "output_type": "display_data"
    },
    {
     "name": "stdout",
     "output_type": "stream",
     "text": [
      "iqr - 211153.426258474\n",
      "q75 - 211153.426258474\n",
      "q25 - 0.0\n",
      "минимальное неаномальное значение 0.0 \n",
      "максимальное неаномальное значение 527883.5656461851\n",
      "выбросов % -  15.94\n"
     ]
    },
    {
     "data": {
      "application/vnd.jupyter.widget-view+json": {
       "model_id": "9b2c438ba0524e52872c9e99b5642f81",
       "version_major": 2,
       "version_minor": 0
      },
      "text/plain": [
       "Button(button_style='info', description='Узнать больше!', style=ButtonStyle())"
      ]
     },
     "metadata": {},
     "output_type": "display_data"
    },
    {
     "name": "stdout",
     "output_type": "stream",
     "text": [
      "****************************************************************************************************\n",
      "Conversions\n"
     ]
    },
    {
     "data": {
      "application/vnd.jupyter.widget-view+json": {
       "model_id": "324ae38dfd7b4810b5d8d8fa96a8c48d",
       "version_major": 2,
       "version_minor": 0
      },
      "text/plain": [
       "interactive(children=(Dropdown(description='graphs', options=('boxplot', 'detail_box_plot', 'scatterplot', 'vi…"
      ]
     },
     "metadata": {},
     "output_type": "display_data"
    },
    {
     "name": "stdout",
     "output_type": "stream",
     "text": [
      "iqr - 94.0\n",
      "q75 - 94.0\n",
      "q25 - 0.0\n",
      "минимальное неаномальное значение 0 \n",
      "максимальное неаномальное значение 235.0\n",
      "выбросов % -  19.14\n"
     ]
    },
    {
     "data": {
      "application/vnd.jupyter.widget-view+json": {
       "model_id": "42a8098b6e25477e9324286663b1e4e8",
       "version_major": 2,
       "version_minor": 0
      },
      "text/plain": [
       "Button(button_style='info', description='Узнать больше!', style=ButtonStyle())"
      ]
     },
     "metadata": {},
     "output_type": "display_data"
    },
    {
     "name": "stdout",
     "output_type": "stream",
     "text": [
      "****************************************************************************************************\n",
      "cpa\n"
     ]
    },
    {
     "data": {
      "application/vnd.jupyter.widget-view+json": {
       "model_id": "927c03b4e46c4c3fb981102e629c36f4",
       "version_major": 2,
       "version_minor": 0
      },
      "text/plain": [
       "interactive(children=(Dropdown(description='graphs', options=('boxplot', 'detail_box_plot', 'scatterplot', 'vi…"
      ]
     },
     "metadata": {},
     "output_type": "display_data"
    },
    {
     "name": "stdout",
     "output_type": "stream",
     "text": [
      "iqr - 1317.7283286795985\n",
      "q75 - 1317.7283286795985\n",
      "q25 - 0.0\n",
      "минимальное неаномальное значение 0.0 \n",
      "максимальное неаномальное значение 3294.320821698996\n",
      "выбросов % -  14.47\n"
     ]
    },
    {
     "data": {
      "application/vnd.jupyter.widget-view+json": {
       "model_id": "890c3ba1e45a4b368d12120235237522",
       "version_major": 2,
       "version_minor": 0
      },
      "text/plain": [
       "Button(button_style='info', description='Узнать больше!', style=ButtonStyle())"
      ]
     },
     "metadata": {},
     "output_type": "display_data"
    },
    {
     "name": "stdout",
     "output_type": "stream",
     "text": [
      "****************************************************************************************************\n"
     ]
    }
   ],
   "source": [
    "print('таргетинг: ', *data['TargetingType'].unique())\n",
    "print('Клиенты: ', *data['Client'].unique())\n",
    "print(f'Данные представлены с {data[\"Month\"].min()} по {data[\"Month\"].max()}')\n",
    "for column, name in {'Category': 'категориям', 'Device': 'типу устройст',\n",
    "                     'Place': 'типу площадки', 'BannerType': 'типу объявления',\n",
    "                     'QueryType': 'типу запроса',\n",
    "                     'TargetingType': 'типу таргетинга'}.items():\n",
    "    make_pieplot_plotly(column, 'cpa', 'count', f'распределение по {name}', data)\n",
    "for column in ['Shows', 'Clicks', 'Cost', 'Conversions', 'cpa']:\n",
    "    print(column)\n",
    "    make_full_analyses_anomalies(data, column)\n",
    "    print(\"*\"*100)\n"
   ]
  },
  {
   "cell_type": "code",
   "execution_count": 8,
   "metadata": {},
   "outputs": [
    {
     "data": {
      "image/png": "[encoded data removed]",
      "text/plain": [
       "<Figure size 640x480 with 1 Axes>"
      ]
     },
     "metadata": {},
     "output_type": "display_data"
    },
    {
     "data": {
      "application/vnd.jupyter.widget-view+json": {
       "model_id": "590f63393f6a4c778d61883a2c1ad2b1",
       "version_major": 2,
       "version_minor": 0
      },
      "text/plain": [
       "FloatText(value=13394.804968887192, description='Среднее:')"
      ]
     },
     "metadata": {},
     "output_type": "display_data"
    },
    {
     "data": {
      "application/vnd.jupyter.widget-view+json": {
       "model_id": "00285fc5a6bc44f2981e4bc4b4952d6a",
       "version_major": 2,
       "version_minor": 0
      },
      "text/plain": [
       "FloatText(value=1640445836.9914563, description='Дисперсия:')"
      ]
     },
     "metadata": {},
     "output_type": "display_data"
    },
    {
     "data": {
      "application/vnd.jupyter.widget-view+json": {
       "model_id": "ec45da355d4540c0820cbff1987ce166",
       "version_major": 2,
       "version_minor": 0
      },
      "text/plain": [
       "FloatText(value=40502.417668473274, description='Среднеквадратическое отклонение:')"
      ]
     },
     "metadata": {},
     "output_type": "display_data"
    },
    {
     "data": {
      "application/vnd.jupyter.widget-view+json": {
       "model_id": "9b54a6aecda34aed91c3e3802f2d07a7",
       "version_major": 2,
       "version_minor": 0
      },
      "text/plain": [
       "FloatText(value=3.0237407534152485, description='Коэффициент вариации:')"
      ]
     },
     "metadata": {},
     "output_type": "display_data"
    },
    {
     "data": {
      "application/vnd.jupyter.widget-view+json": {
       "model_id": "ef01194106034e0482ee69491ae9cdbd",
       "version_major": 2,
       "version_minor": 0
      },
      "text/plain": [
       "FloatSlider(value=0.5, description='Квартиль:', max=1.0, step=0.01)"
      ]
     },
     "metadata": {},
     "output_type": "display_data"
    },
    {
     "data": {
      "application/vnd.jupyter.widget-view+json": {
       "model_id": "796571fc23f24b8ebed9c2e312a544ac",
       "version_major": 2,
       "version_minor": 0
      },
      "text/plain": [
       "FloatText(value=0.0, description='Значение квартиля:')"
      ]
     },
     "metadata": {},
     "output_type": "display_data"
    },
    {
     "data": {
      "application/vnd.jupyter.widget-view+json": {
       "model_id": "e22e4ff70731401ba34a39f6159928de",
       "version_major": 2,
       "version_minor": 0
      },
      "text/plain": [
       "FloatText(value=11399.430266839378, description='Медиана:')"
      ]
     },
     "metadata": {},
     "output_type": "display_data"
    },
    {
     "data": {
      "application/vnd.jupyter.widget-view+json": {
       "model_id": "21a73f86a4cb47a69b4b3cf1c5d6515a",
       "version_major": 2,
       "version_minor": 0
      },
      "text/plain": [
       "FloatText(value=0.26331794034948, description='Джини:')"
      ]
     },
     "metadata": {},
     "output_type": "display_data"
    },
    {
     "data": {
      "application/vnd.jupyter.widget-view+json": {
       "model_id": "787c96d8ea8b42a491d1239f24d87b5c",
       "version_major": 2,
       "version_minor": 0
      },
      "text/plain": [
       "IntText(value=1, description='Порядок:')"
      ]
     },
     "metadata": {},
     "output_type": "display_data"
    },
    {
     "data": {
      "application/vnd.jupyter.widget-view+json": {
       "model_id": "582fe2169b224e9d9f7412301c7ff6a2",
       "version_major": 2,
       "version_minor": 0
      },
      "text/plain": [
       "FloatText(value=0.0, description='Значение:')"
      ]
     },
     "metadata": {},
     "output_type": "display_data"
    },
    {
     "data": {
      "application/vnd.jupyter.widget-view+json": {
       "model_id": "0a8e069239634b57bd42ae4fe26e6251",
       "version_major": 2,
       "version_minor": 0
      },
      "text/plain": [
       "Dropdown(description='Момент:', options=('Центральный момент', 'Центральный момент к значению a', 'Простой мом…"
      ]
     },
     "metadata": {},
     "output_type": "display_data"
    },
    {
     "data": {
      "application/vnd.jupyter.widget-view+json": {
       "model_id": "caf502dbabd741cb9fe305743c639317",
       "version_major": 2,
       "version_minor": 0
      },
      "text/plain": [
       "FloatText(value=0.0, description='Значение момента:')"
      ]
     },
     "metadata": {},
     "output_type": "display_data"
    },
    {
     "data": {
      "application/vnd.jupyter.widget-view+json": {
       "model_id": "452c0701a54b441c9401381392f0c101",
       "version_major": 2,
       "version_minor": 0
      },
      "text/plain": [
       "Dropdown(description='Атрибут:', options=('Юль', 'Пирсон', 'Фишер', 'Аплатиссемент Пирсон', 'Аплатиссемент Фиш…"
      ]
     },
     "metadata": {},
     "output_type": "display_data"
    },
    {
     "data": {
      "application/vnd.jupyter.widget-view+json": {
       "model_id": "7ff6ca1cf73044dcb281b9155093fd49",
       "version_major": 2,
       "version_minor": 0
      },
      "text/plain": [
       "FloatText(value=0.0, description='Значение атрибута:')"
      ]
     },
     "metadata": {},
     "output_type": "display_data"
    },
    {
     "data": {
      "image/png": "[encoded data removed]",
      "text/plain": [
       "<Figure size 640x480 with 1 Axes>"
      ]
     },
     "metadata": {},
     "output_type": "display_data"
    }
   ],
   "source": [
    "create_stat_table(data['cpa'])"
   ]
  },
  {
   "cell_type": "code",
   "execution_count": 9,
   "metadata": {},
   "outputs": [
    {
     "data": {
      "text/html": [
       "\n",
       "        <iframe\n",
       "            width=\"100%\"\n",
       "            height=\"650\"\n",
       "            src=\"http://127.0.0.1:8050/\"\n",
       "            frameborder=\"0\"\n",
       "            allowfullscreen\n",
       "            \n",
       "        ></iframe>\n",
       "        "
      ],
      "text/plain": [
       "<IPython.lib.display.IFrame at 0x1ff5b432d30>"
      ]
     },
     "metadata": {},
     "output_type": "display_data"
    }
   ],
   "source": [
    "external_stylesheets: list[str] = [\n",
    "    'https://codepen.io/chriddyp/pen/bWLwgP.css'\n",
    "    ]\n",
    "app = dash.Dash(__name__, external_stylesheets=external_stylesheets,\n",
    "                compress=False)\n",
    "\n",
    "\n",
    "colors = {\n",
    "    'background': '#111111',\n",
    "    'text': '#7FDBFF'\n",
    "}\n",
    "\n",
    "app.layout = html.Div(style={'backgroundColor': colors['background']},\n",
    "                      children=[\n",
    "    html.H1(children='CPA analyse',\n",
    "            style={\n",
    "             'textAlign': 'center',\n",
    "             'color': colors['text']\n",
    "            }),\n",
    "    html.Br(),\n",
    "# selectors first line\n",
    "    html.Div([\n",
    "        html.Div([\n",
    "            html.Label('Временной период:',\n",
    "             style={'textAlign': 'center', 'color': colors['text']}),\n",
    "            dcc.DatePickerRange(start_date=data['Month'].dt.date.min(),\n",
    "                                end_date=data['Month'].dt.date.max(),\n",
    "                                display_format='YYYY-MM-DD',\n",
    "                                id='dt_selector',\n",
    "                                style={'textAlign': 'center', 'color': 'blue', 'backgroundColor': colors['background']}),\n",
    "         ],\n",
    "             className='two columns'),\n",
    "        html.Div([\n",
    "            html.Label('Компании:',\n",
    "                 style={'textAlign': 'center', 'color': colors['text']}),\n",
    "            dcc.Dropdown(options=[{'label': x, 'value': x} for x in data[\n",
    "                'Client'\n",
    "                ].unique()],\n",
    "                         value=data['Client'].unique().tolist(),\n",
    "                         multi=True,\n",
    "                         id='company_selector',\n",
    "                         style={'backgroundColor': colors['background']}),\n",
    "        ], className='four columns'),\n",
    "        html.Div([\n",
    "            html.Label('Device: ', style={'textAlign': 'center', 'color': colors['text']}),\n",
    "            dcc.Dropdown(options=[{'label': x, 'value': x} for x in data[\n",
    "                'Device'\n",
    "                ].unique()],\n",
    "                         value=data['Device'].unique().tolist(),\n",
    "                         multi=True,\n",
    "                         id='device_selector',\n",
    "                         style={'backgroundColor': colors['background']}), \n",
    "        ], className='two columns'),\n",
    "        html.Div([\n",
    "            html.Label('Places: ', style={'textAlign': 'center', 'color': colors['text']}),\n",
    "            dcc.Dropdown(options=[{'label': x, 'value': x} for x in data[\n",
    "                'Place'\n",
    "                ].unique()],\n",
    "                         value=['search'],\n",
    "                         multi=True,\n",
    "                         id='place_selector',\n",
    "                         style={'backgroundColor': colors['background']}),], className='two columns'),\n",
    "        html.Div([\n",
    "            html.Label('QueryType: ', style={'textAlign': 'center', 'color': colors['text']}, id='query_label'),\n",
    "            dcc.Dropdown(options=[{'label': x, 'value': x} for x in data[\n",
    "                'QueryType'\n",
    "                ].unique()],\n",
    "                         value=data['QueryType'].unique().tolist(),\n",
    "                         multi=True,\n",
    "                         id='query_selector'), \n",
    "                         ], className='two columns'),\n",
    "    ], className='row'),\n",
    "    html.Br(),\n",
    "# selectors second line\n",
    "    html.Div([\n",
    "        html.Div([\n",
    "            html.Label('Режим отображения:',\n",
    "                       style={'textAlign': 'center', 'color': colors['text']}),\n",
    "            dcc.RadioItems(options=[\n",
    "                {'label': html.Div(['абсолютные значения'],\n",
    "                                   style={'color': 'Gold',\n",
    "                                          'font-size': 12}),\n",
    "                           'value': 'absolute_values'},\n",
    "                {'label': html.Div(['прирост'],\n",
    "                                   style={'color': 'Gold',\n",
    "                                          'font-size': 12}),\n",
    "                    'value': 'relative_values'},\n",
    "            ],\n",
    "             value='absolute_values',\n",
    "             id='mode_selector',\n",
    "             style={'backgroundColor': colors['background']}),\n",
    "        ], className='two columns'),\n",
    "        html.Div([\n",
    "            html.Label('BannerType: ', style={'textAlign': 'center', 'color': colors['text']}),\n",
    "            dcc.Dropdown(options=[{'label': x, 'value': x} for x in data[\n",
    "                'BannerType'\n",
    "                ].unique()],\n",
    "                         value=data['BannerType'].unique().tolist(),\n",
    "                         multi=True,\n",
    "                         id='banner_selector',\n",
    "                         style={'backgroundColor': colors['background']}),], className='four columns'),\n",
    "        html.Div([\n",
    "            html.Label('TargetingType: ', style={'textAlign': 'center', 'color': colors['text']}),\n",
    "            dcc.Dropdown(options=[{'label': x, 'value': x} for x in data[\n",
    "                'TargetingType'\n",
    "                ].unique()],\n",
    "                         value=data['TargetingType'].unique().tolist(),\n",
    "                         multi=True,\n",
    "                         id='target_selector',\n",
    "                         style={'backgroundColor': colors['background']}),], className='two columns'),\n",
    "        html.Div([\n",
    "            html.Label('Category: ', style={'textAlign': 'center', 'color': colors['text']}),\n",
    "            dcc.Dropdown(options=[{'label': x, 'value': x} for x in data[\n",
    "                'Category'\n",
    "                ].unique()],\n",
    "                         value=data['Category'].unique().tolist(),\n",
    "                         multi=True,\n",
    "                         id='category_selector',\n",
    "                         style={'backgroundColor': colors['background']}),], className='four columns'),\n",
    "    ], className='row'),\n",
    "    html.Br(),\n",
    "# graphs (lines)\n",
    "    html.Div([\n",
    "    html.Div([\n",
    "            html.Label('Метрика:',\n",
    "                       style={'textAlign': 'center', 'color': colors['text']}),\n",
    "            dcc.RadioItems(options=[\n",
    "                {'label': html.Div(['cpa'],\n",
    "                                   style={'color': 'Gold',\n",
    "                                          'font-size': 12}),\n",
    "                           'value': 'cpa'},\n",
    "                {'label': html.Div(['cpc'],\n",
    "                                   style={'color': 'Gold',\n",
    "                                          'font-size': 12}),\n",
    "                    'value': 'cpc'},\n",
    "                {'label': html.Div(['cpa_2'],\n",
    "                                   style={'color': 'Gold',\n",
    "                                          'font-size': 12}),\n",
    "                    'value': 'cpa_2'},\n",
    "            ],\n",
    "             value='cpa',\n",
    "             id='metric_selector',\n",
    "             style={'backgroundColor': colors['background']}),\n",
    "        ], className='two columns'),\n",
    "    html.Div([\n",
    "        html.Label('CPA', style={'textAlign': 'center', 'color': colors['text']}),\n",
    "        dcc.Graph(id='cpa_line'),\n",
    "    ], className='ten columns'),\n",
    "    html.Div([\n",
    "        html.Label('Costs', style={'textAlign': 'center', 'color': colors['text']}),\n",
    "        dcc.Graph(id='cost_line'),\n",
    "    ], className='five columns'),\n",
    "    html.Div([\n",
    "        html.Label('Conversions', style={'textAlign': 'center', 'color': colors['text']}),\n",
    "        dcc.Graph(id='conversions_line'),\n",
    "    ], className='five columns'),\n",
    "    html.Div([\n",
    "        html.Label('Clicks', style={'textAlign': 'center', 'color': colors['text']}),\n",
    "        dcc.Graph(id='clicks_line'),\n",
    "    ], className='five columns'),\n",
    "    html.Div([\n",
    "        html.Label('Shows', style={'textAlign': 'center', 'color': colors['text']}),\n",
    "        dcc.Graph(id='shows_line'),\n",
    "    ], className='five columns'),], className='row'),\n",
    "    html.Div([\n",
    "        html.Div([\n",
    "            html.Label('cpa/conversions/costs', style={'textAlign': 'center', 'color': colors['text']}),\n",
    "            dcc.Graph(id='bar_plot')], className='twelve columns')\n",
    "    ], className='row'),\n",
    "    html.Div([\n",
    "        html.Div([\n",
    "            html.Label('3d cpa/conversions/costs', style={'textAlign': 'center', 'color': colors['text']}),\n",
    "            dcc.Graph(\n",
    "                figure = {\n",
    "                    'data': [go.Scatter3d(\n",
    "                            x=data['Cost'],\n",
    "                            y=data['Conversions'],\n",
    "                            z=data['cpa'],\n",
    "                            mode='markers',\n",
    "                            marker=dict(\n",
    "                                size=12,\n",
    "                                colorscale='Viridis',\n",
    "                                opacity=0.8\n",
    "                            )\n",
    "                    )],\n",
    "                    'layout': go.Layout(scene = dict(\n",
    "                                        xaxis_title='Cost',\n",
    "                                        yaxis_title='Conversions',\n",
    "                                        zaxis_title='CPA'\n",
    "                    ),\n",
    "                    plot_bgcolor=colors['background'],\n",
    "                    paper_bgcolor=colors['background'],\n",
    "                    font={'color': colors['text']},\n",
    "                    width=700,\n",
    "                    margin=dict(r=20, b=10, l=10, t=10)\n",
    "                )\n",
    "                },\n",
    "                id = 'cost_conv_cpa'\n",
    "            )],className='twelve columns')\n",
    "        ], className='row'),\n",
    "\n",
    "    html.Div([\n",
    "        html.Div(id='output-container-date-picker')\n",
    "    ], className='row')\n",
    "])\n",
    "\n",
    "\n",
    "@app.callback(\n",
    "    Output('query_selector', 'style'),\n",
    "    Input('place_selector', 'value')\n",
    ")\n",
    "def show_hide_element(place):\n",
    "    if len(place) == 1 and place[0] == 'search':\n",
    "        return {'display': 'block', 'backgroundColor': colors['background']}\n",
    "    else:\n",
    "        return {'display': 'none'}\n",
    "\n",
    "\n",
    "@app.callback(\n",
    "    [Output('cpa_line', 'figure'),\n",
    "     Output('conversions_line', 'figure'),\n",
    "     Output('clicks_line', 'figure'),\n",
    "     Output('shows_line', 'figure'),\n",
    "     Output('cost_line', 'figure'),\n",
    "     Output('bar_plot', 'figure'),],\n",
    "    [Input('dt_selector', 'start_date'),\n",
    "     Input('dt_selector', 'end_date'),\n",
    "     Input('device_selector', 'value'),\n",
    "     Input('company_selector', 'value'),\n",
    "     Input('place_selector', 'value'),\n",
    "     Input('query_selector', 'value'),\n",
    "     Input('banner_selector', 'value'),\n",
    "     Input('target_selector', 'value'),\n",
    "     Input('category_selector', 'value'),\n",
    "     Input('mode_selector', 'value'),\n",
    "     Input('metric_selector', 'value'),])\n",
    "def update_figures(start_date, end_date,\n",
    "                  select_device, selected_companys,\n",
    "                  select_place, select_query,\n",
    "                  select_banner, select_target, select_category, mode, column, data=data):\n",
    "    start_date = datetime.strptime(start_date, '%Y-%m-%d')\n",
    "    end_date = datetime.strptime(end_date, '%Y-%m-%d')\n",
    "    query = '''Month >= @start_date\n",
    "                                   and Month <= @end_date\n",
    "                                   and Client in @selected_companys\n",
    "                                   and Category in @select_category\n",
    "                                   and Device in @select_device\n",
    "                                   and Place in @select_place\n",
    "                                   and BannerType in @select_banner\n",
    "                                   and TargetingType in @select_target'''\n",
    "    filtered_data = data.query(query.replace('\\n', ' '))\n",
    "    if len(select_place) == 1 and select_place[0] == 'search':\n",
    "         filtered_data = filtered_data.query('QueryType in @select_query')\n",
    "    if mode == 'relative_values':\n",
    "        filtered_data[['Shows', 'Clicks', 'Cost', 'Conversions', 'cpa']] = filtered_data[['Shows', 'Clicks', 'Cost', 'Conversions', 'cpa']].pct_change()\n",
    "    data_company = []\n",
    "    for company in filtered_data['Client'].unique():\n",
    "        data_company += [go.Scatter(x=filtered_data.query('Client == @company').groupby(by=[\"Month\"]).agg({column: 'median'}).reset_index()['Month'],\n",
    "                            y=filtered_data.query('Client == @company').groupby(by=[\"Month\"]).agg({column: 'median'})[column],\n",
    "                            mode='lines',\n",
    "                            name=company)]\n",
    "    if mode != 'relative_values':\n",
    "        data_company += [go.Scatter(x=filtered_data.query('Client == \"сигма\"')['Month'],\n",
    "                            y=[380 for _ in range(len(filtered_data))],\n",
    "                            mode='lines',\n",
    "                            line=dict(dash='dot'),\n",
    "                            marker_color='red',\n",
    "                            name='целевое значение' \n",
    "                            )]\n",
    "    conversions = []\n",
    "    for company in filtered_data['Client'].unique():\n",
    "        conversions += [go.Scatter(x=filtered_data.query('Client == @company').groupby(by=[\"Month\"]).agg({'Conversions': 'median'}).reset_index()['Month'],\n",
    "                            y=filtered_data.query('Client == @company').groupby(by=[\"Month\"]).agg({'Conversions': 'median'})['Conversions'],\n",
    "                            mode='lines',\n",
    "                            name=company)]\n",
    "    clicks = []\n",
    "    for company in filtered_data['Client'].unique():\n",
    "        clicks += [go.Scatter(x=filtered_data.query('Client == @company').groupby(by=[\"Month\"]).agg({'Clicks': 'median'}).reset_index()['Month'],\n",
    "                            y=filtered_data.query('Client == @company').groupby(by=[\"Month\"]).agg({'Clicks': 'median'})['Clicks'],\n",
    "                            mode='lines',\n",
    "                            name=company)]\n",
    "    shows = []\n",
    "    for company in filtered_data['Client'].unique():\n",
    "        shows += [go.Scatter(x=filtered_data.query('Client == @company').groupby(by=[\"Month\"]).agg({'Shows': 'median'}).reset_index()['Month'],\n",
    "                            y=filtered_data.query('Client == @company').groupby(by=[\"Month\"]).agg({'Shows': 'median'})['Shows'],\n",
    "                            mode='lines',\n",
    "                            name=company)]\n",
    "    cost = []\n",
    "    for company in filtered_data['Client'].unique():\n",
    "        cost += [go.Scatter(x=filtered_data.query('Client == @company').groupby(by=[\"Month\"]).agg({'Cost': 'median'}).reset_index()['Month'],\n",
    "                            y=filtered_data.query('Client == @company').groupby(by=[\"Month\"]).agg({'Cost': 'median'})['Cost'],\n",
    "                            mode='lines',\n",
    "                            name=company)]\n",
    "    return (\n",
    "                {\n",
    "                    'data': data_company,\n",
    "                    'layout': go.Layout(xaxis={'title': 'Month'},\n",
    "                                        yaxis={'title': 'CPA'},\n",
    "                                        plot_bgcolor=colors['background'],\n",
    "                                        paper_bgcolor=colors['background'],\n",
    "                                        font={'color': colors['text']})\n",
    "                 },\n",
    "                {\n",
    "                    'data': conversions,\n",
    "                    'layout': go.Layout(xaxis={'title': 'Month'},\n",
    "                                        yaxis={'title': 'Conversions'},\n",
    "                                        plot_bgcolor=colors['background'],\n",
    "                                        paper_bgcolor=colors['background'],\n",
    "                                        font={'color': colors['text']})\n",
    "                 },\n",
    "                {\n",
    "                    'data': clicks,\n",
    "                    'layout': go.Layout(xaxis={'title': 'Month'},\n",
    "                                        yaxis={'title': 'Clicks'},\n",
    "                                        plot_bgcolor=colors['background'],\n",
    "                                        paper_bgcolor=colors['background'],\n",
    "                                        font={'color': colors['text']})\n",
    "                },\n",
    "                 {\n",
    "                    'data': shows,\n",
    "                    'layout': go.Layout(xaxis={'title': 'Month'},\n",
    "                                        yaxis={'title': 'Shows'},\n",
    "                                        plot_bgcolor=colors['background'],\n",
    "                                        paper_bgcolor=colors['background'],\n",
    "                                        font={'color': colors['text']})\n",
    "                },\n",
    "                 {\n",
    "                    'data': cost,\n",
    "                    'layout': go.Layout(xaxis={'title': 'Month'},\n",
    "                                        yaxis={'title': 'Cost'},\n",
    "                                        plot_bgcolor=colors['background'],\n",
    "                                        paper_bgcolor=colors['background'],\n",
    "                                        font={'color': colors['text']})\n",
    "                },\n",
    "                {\n",
    "                    'data': [\n",
    "                        go.Bar(x=filtered_data['Month'], y=filtered_data['Cost'], name='Затраты'),\n",
    "                        go.Bar(x=filtered_data['Month'], y=filtered_data['Conversions'], name='Конверсии'),\n",
    "                        go.Bar(x=filtered_data['Month'], y=filtered_data[column], name=column),\n",
    "                        ],\n",
    "                    'layout': go.Layout(barmode='stack',\n",
    "                                        plot_bgcolor=colors['background'],\n",
    "                                        paper_bgcolor=colors['background'],\n",
    "                                        font={'color': colors['text']})\n",
    "                }\n",
    "    )\n",
    "\n",
    "\n",
    "@app.callback(\n",
    "    Output('output-container-date-picker', 'children'),\n",
    "    [Input('device_selector', 'value'),\n",
    "     Input('company_selector', 'value'),\n",
    "     Input('place_selector', 'value'),\n",
    "     Input('query_selector', 'value'),\n",
    "     Input('banner_selector', 'value'),\n",
    "     Input('target_selector', 'value'),\n",
    "     Input('category_selector', 'value'),]\n",
    ")\n",
    "def update_output(select_device, selected_companys,\n",
    "                  select_place, select_query,\n",
    "                  select_banner, select_target, select_category):\n",
    "    query = '''Client in @selected_companys\n",
    "                and Category in @select_category\n",
    "                and Device in @select_device\n",
    "                and Place in @select_place\n",
    "                and BannerType in @select_banner\n",
    "                and TargetingType in @select_target'''\n",
    "    filtered_data = data.query(query.replace('\\n', ' '))\n",
    "    if len(select_place) == 1 and select_place[0] == 'search':\n",
    "         filtered_data = filtered_data.query('QueryType in @select_query')\n",
    "    figures = []\n",
    "    for feature in ['Category', 'Device', 'Place', 'BannerType', 'QueryType', 'TargetingType']:\n",
    "        filtered_df_before = filtered_data[filtered_data['Month'] < datetime(2022, 6, 1)]\n",
    "        filtered_df_after = filtered_data[filtered_data['Month'] >= datetime(2022, 6, 1)]\n",
    "        data_before = [\n",
    "            go.Pie(labels=filtered_df_before[feature].unique(), values=filtered_df_before[feature].value_counts())\n",
    "        ]\n",
    "        data_after = [\n",
    "            go.Pie(labels=filtered_df_after[feature].unique(), values=filtered_df_after[feature].value_counts())\n",
    "        ]\n",
    "        figures.append(html.Div([\n",
    "            dcc.Graph(\n",
    "                id=f'{feature}-pie-chart-before',\n",
    "                figure={\n",
    "                    'data': data_before,\n",
    "                    'layout': go.Layout(title=f'Распределение {feature} до {datetime(2022, 6, 1)}',\n",
    "                                        plot_bgcolor=colors['background'],\n",
    "                                        paper_bgcolor=colors['background'],\n",
    "                                        font={'color': colors['text']})\n",
    "                }\n",
    "            ),\n",
    "            dcc.Graph(\n",
    "                id=f'{feature}-pie-chart-after',\n",
    "                figure={\n",
    "                    'data': data_after,\n",
    "                    'layout': go.Layout(title=f'Распределение {feature} после {datetime(2022, 6, 1)}',\n",
    "                                        plot_bgcolor=colors['background'],\n",
    "                                        paper_bgcolor=colors['background'],\n",
    "                                        font={'color': colors['text']})\n",
    "                }\n",
    "            )\n",
    "        ], style={'display': 'flex'}))\n",
    "    return figures\n",
    "\n",
    "\n",
    "if __name__ == '__main__':\n",
    "    app.run_server(debug=False, mode='inline')"
   ]
  },
  {
   "cell_type": "markdown",
   "metadata": {},
   "source": [
    "## Анализ CPA\n",
    "\n",
    "### Анализ mobile - networks\n",
    "\n",
    "1. **CPA (затраты/конверсия)**: Растет стабильно, максимальное значение - 250.\n",
    "2. **CPC**: Около нуля.\n",
    "3. **CPA (CPC/конверсии)**: Также растет около нуля.\n",
    "4. **Издержки**: Являются возрастающей функцией.\n",
    "5. **Конверсия, клики, показы**: Сначала растут до июня, а в августе сильно убывают.\n",
    "6. **Темпы прироста CPA**: Отрицательные темпы прироста до июня.\n",
    "7. **Темпы прироста CPC**: Увеличиваются.\n",
    "8. **Темпы прироста CPA_2**: Такие же, как у CPC, но темпы прироста значительно ниже.\n",
    "9. **Темпы прироста затрат**: Отрицательные в августе.\n",
    "10. **Структура выбора баннеров**: Сильно изменилась (текст 60 -> 18%, изображение 32% -> 67%, CPM-баннер 6 -> 14%).\n",
    "\n",
    "### Анализ modile - search\n",
    "\n",
    "1. **CPA, CPC, (CPC/конверсии)**: CPA от 150-340, остальные менее ста.\n",
    "2. **Темпы прироста CPA**: Показали отрицательные темпы прироста в июле.\n",
    "3. **Темпы прироста CPC**: Очень сильно росли на протяжении всего периода.\n",
    "4. **Темпы прироста (CPC/конверсии)**: Также росли, но с гораздо меньшими темпами прироста.\n",
    "5. **Темпы прироста затрат**: Были отрицательными в августе, когда темпы прироста конверсии были значительно выше.\n",
    "6. **Клики и показы**: Увеличивались, но показы росли быстрее. Однако в августе прирост кликов был сильно больше, тогда как темпы роста показов уменьшались.\n",
    "7. **Доля автотаргетинга**: Значительно выросла.\n",
    "\n",
    "### Анализ desktop - networks\n",
    "\n",
    "1. **CPA**: Не достигает целевого уровня.\n",
    "2. **CPC/ (CPC/конверсии)**: Растут около ста.\n",
    "3. **CPA**: Сильно выросла в июле-августе, до этого уменьшалась.\n",
    "4. **CPC**: Постоянно росла.\n",
    "5. **CPA_2 (CPC/конверсии)**: Также постоянно росла (положительные темпы прироста, но более низкие, чем у CPC).\n",
    "6. **Затраты**: Постоянно уменьшались.\n",
    "7. **Конверсия**: Росла с темпом прироста, превосходящим падение затрат.\n",
    "8. **Количество кликов**: Все время падало.\n",
    "9. **Количество показов**: Тоже все время падало, но в сентябре подросло.\n",
    "10. **Структура выбора баннеров**: Сильно изменилась (изображение +9%, текст -7%, видео больше не используют). Уменьшилась доля ретаргетинга и появился автотаргетинг.\n",
    "\n",
    "### Анализ desktop - search\n",
    "\n",
    "1. **CPA**: Постоянно уменьшалась.\n",
    "2. **CPC**: Росло.\n",
    "3. **(CPC/конверсии)**: Росло, но медленнее CPC.\n",
    "4. **Затраты**: Росли также, как и конверсия, но с меньшими темпами прироста.\n",
    "5. **Затраты**: Особенно сильно подросли в августе, а рост (CPC/конверсии) был в июле.\n",
    "6. **Категории**: Из категорий пропали инвестиции.\n",
    "7. **Тип баннера**: Текст занимает более 90%.\n",
    "8. **Доля автотаргетинга**: Значительно выросла.\n",
    "\n",
    "\n",
    "## Выводы\n",
    "\n",
    "### Причины роста CPA\n",
    "\n",
    "1. **Изменение структуры выбора баннеров**: Было замечено значительное изменение в выборе типов баннеров. Доля текстовых баннеров уменьшилась с 60% до 18%, в то время как доля изображений увеличилась с 32% до 67%. Это может влиять на CPA, так как разные типы баннеров могут иметь разные стоимости и эффективность.\n",
    "\n",
    "2. **Изменение в таргетинге**: Было замечено, что доля автотаргетинга значительно выросла, в то время как доля ретаргетинга уменьшилась. Это может влиять на CPA, так как разные стратегии таргетинга могут иметь разные стоимости и эффективность.\n",
    "\n",
    "3. **Изменение в темпах прироста**: В августе темпы прироста затрат были отрицательными, в то время как темпы прироста конверсии были значительно выше. Это может указывать на то, что затраты растут быстрее, чем конверсии, что приводит к увеличению CPA.\n",
    "\n",
    "### Рекомендации по снижению и стабилизации CPA\n",
    "\n",
    "1. **Оптимизация выбора баннеров**: Проведите A/B тестирование различных типов баннеров, чтобы определить, какие из них наиболее эффективны с точки зрения CPA. Возможно, стоит пересмотреть текущую стратегию и сделать больший акцент на более эффективные типы баннеров.\n",
    "\n",
    "2. **Оптимизация стратегии таргетинга**: Проведите анализ эффективности различных стратегий таргетинга. Возможно, стоит пересмотреть текущую стратегию и сделать больший акцент на более эффективные стратегии таргетинга.\n",
    "\n",
    "3. **Мониторинг и оптимизация темпов прироста**: Регулярно отслеживайте темпы прироста затрат и конверсий. Если затраты растут быстрее конверсий, это может указывать на необходимость оптимизации рекламной кампании.\n"
   ]
  }
 ],
 "metadata": {
  "kernelspec": {
   "display_name": "venv",
   "language": "python",
   "name": "python3"
  },
  "language_info": {
   "codemirror_mode": {
    "name": "ipython",
    "version": 3
   },
   "file_extension": ".py",
   "mimetype": "text/x-python",
   "name": "python",
   "nbconvert_exporter": "python",
   "pygments_lexer": "ipython3",
   "version": "3.9.12"
  }
 },
 "nbformat": 4,
 "nbformat_minor": 2
}
